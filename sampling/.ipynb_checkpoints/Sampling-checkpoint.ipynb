{
 "cells": [
  {
   "cell_type": "markdown",
   "metadata": {},
   "source": [
    "# Sampling\n",
    "In this notebook we want to investigate different sampling methods. We start with inverse transform sampling. \n",
    "Assume we have a pdf $f(x)$ with a corresponding cdf $F(x) = P(X <= x) = \\int_{-\\infty}^{x} f(y) dy$. The goal is to draw samples $X\\propto f(x)$ from the pdf\n",
    "distributions in order to compute sample statistics. In this way we can approximate the distribution $f(X)$.\n",
    "\n",
    "## Motivation\n",
    "Why do we want to draw samples from distributions:\n",
    "\n",
    "1. Mathematical expression of f(x) is too complicated (e.g. complext integral definition, etc.) to compute statistics, hence we have to rely on sample statistics.\n",
    "2. Using sampling techniques we can compute integrals, e.g. with MCMC.\n",
    "3. In bayesian inference it gives us an approximation of the denominator (which is often intractable)\n",
    "4. Also important for stochastical gradient descent methods (see https://arxiv.org/abs/1506.03431)\n",
    "\n",
    "### Sampling from Uniform distribution\n",
    "This is something we assume that we can do that. It basically deals with random number generators.\n",
    "\n",
    "### Inverse Transform Sampling\n",
    "\n",
    "#### Procedure:\n",
    "\n",
    "1. Take random samples u of a uniform distribution $\\mathcal{U}$ between 0 and 1\n",
    "2. Interprete these samples u as probabilities\n",
    "3. Return the largest number x from the pdf, such that ${P(-\\infty < X < x )} \\le u$\n",
    "4. x is a sample of your pdf\n",
    "\n",
    "For point 3 you need the inverse of the cdf in order to solve for x.\n",
    "\n",
    "#### Intuitions\n",
    "Assume $F(x) = P(X < x)$ is monotonically increasing function (not always true).\n",
    "We start with a uniform random variate $U \\propto \\mathcal{U}(0,1)$. Let us define\n",
    "$X = T(U)$, where $T$ is some function which maps $[0,1] \\rightarrow \\mathbb{R}$.\n",
    "In some sense you can interprete $T$ as a function which maps probabilities to the real space.\n",
    "The random variate then has a non uniform distribution. We want it to follow the distribution $f(x)$, hence\n",
    "we want $P(T(U)<x) = F(X)$. It turns out that $T(U) = F^{-1}(U)$ does the trick:\n",
    "\n",
    "$$P(F^{-1}(U)<x) = P(U<F(x)) = F(x)$$, where we used\n",
    "$P(U < y) = y$ if $U$ is uniform: *The probability of drawing a number smaller than y from a uniform distribution is y*. (nice explanations are here: https://www.quora.com/What-is-an-intuitive-explanation-of-inverse-transform-sampling-method-in-statistics-and-how-does-it-relate-to-cumulative-distribution-function)\n",
    "\n"
   ]
  },
  {
   "cell_type": "code",
   "execution_count": 1,
   "metadata": {},
   "outputs": [],
   "source": [
    "import numpy as np\n",
    "import pandas as pd"
   ]
  },
  {
   "cell_type": "code",
   "execution_count": null,
   "metadata": {},
   "outputs": [],
   "source": []
  }
 ],
 "metadata": {
  "kernelspec": {
   "display_name": "Custom (custom_python)",
   "language": "python",
   "name": "custom_python"
  },
  "language_info": {
   "codemirror_mode": {
    "name": "ipython",
    "version": 3
   },
   "file_extension": ".py",
   "mimetype": "text/x-python",
   "name": "python",
   "nbconvert_exporter": "python",
   "pygments_lexer": "ipython3",
   "version": "3.6.10"
  }
 },
 "nbformat": 4,
 "nbformat_minor": 4
}
