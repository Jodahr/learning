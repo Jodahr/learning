{
 "cells": [
  {
   "cell_type": "markdown",
   "metadata": {},
   "source": [
    "# Univariate and Multivariate Gaussian"
   ]
  },
  {
   "cell_type": "markdown",
   "metadata": {},
   "source": [
    "$f(x \\vert \\mu, \\sigma) = \\frac{1}{\\sqrt{2 \\pi \\sigma^2}}e^{-\\frac{(x - \\mu)^2}{2 \\sigma^2}}$"
   ]
  },
  {
   "cell_type": "code",
   "execution_count": 299,
   "metadata": {},
   "outputs": [],
   "source": [
    "import math\n",
    "import numpy as np\n",
    "from matplotlib import pyplot as plt"
   ]
  },
  {
   "cell_type": "code",
   "execution_count": 300,
   "metadata": {},
   "outputs": [],
   "source": [
    "def uni_normal(x,mu=0,sigma=1):\n",
    "    N = 1.0 / (math.sqrt( 2 * math.pi * sigma**2 ))\n",
    "    exponent = -(x - mu)**2 / (2*sigma**2)\n",
    "    E = np.exp(exponent)\n",
    "    return N * E"
   ]
  },
  {
   "cell_type": "code",
   "execution_count": 301,
   "metadata": {},
   "outputs": [
    {
     "data": {
      "text/plain": [
       "0.3989422804014327"
      ]
     },
     "execution_count": 301,
     "metadata": {},
     "output_type": "execute_result"
    }
   ],
   "source": [
    "uni_normal(0)"
   ]
  },
  {
   "cell_type": "code",
   "execution_count": 302,
   "metadata": {},
   "outputs": [],
   "source": [
    "x = np.arange(-4,4, 0.1)"
   ]
  },
  {
   "cell_type": "code",
   "execution_count": 303,
   "metadata": {},
   "outputs": [
    {
     "data": {
      "text/plain": [
       "array([1.33830226e-04, 1.98655471e-04, 2.91946926e-04, 4.24780271e-04,\n",
       "       6.11901930e-04, 8.72682695e-04, 1.23221917e-03, 1.72256894e-03,\n",
       "       2.38408820e-03, 3.26681906e-03, 4.43184841e-03, 5.95253242e-03,\n",
       "       7.91545158e-03, 1.04209348e-02, 1.35829692e-02, 1.75283005e-02,\n",
       "       2.23945303e-02, 2.83270377e-02, 3.54745928e-02, 4.39835960e-02,\n",
       "       5.39909665e-02, 6.56158148e-02, 7.89501583e-02, 9.40490774e-02,\n",
       "       1.10920835e-01, 1.29517596e-01, 1.49727466e-01, 1.71368592e-01,\n",
       "       1.94186055e-01, 2.17852177e-01, 2.41970725e-01, 2.66085250e-01,\n",
       "       2.89691553e-01, 3.12253933e-01, 3.33224603e-01, 3.52065327e-01,\n",
       "       3.68270140e-01, 3.81387815e-01, 3.91042694e-01, 3.96952547e-01,\n",
       "       3.98942280e-01, 3.96952547e-01, 3.91042694e-01, 3.81387815e-01,\n",
       "       3.68270140e-01, 3.52065327e-01, 3.33224603e-01, 3.12253933e-01,\n",
       "       2.89691553e-01, 2.66085250e-01, 2.41970725e-01, 2.17852177e-01,\n",
       "       1.94186055e-01, 1.71368592e-01, 1.49727466e-01, 1.29517596e-01,\n",
       "       1.10920835e-01, 9.40490774e-02, 7.89501583e-02, 6.56158148e-02,\n",
       "       5.39909665e-02, 4.39835960e-02, 3.54745928e-02, 2.83270377e-02,\n",
       "       2.23945303e-02, 1.75283005e-02, 1.35829692e-02, 1.04209348e-02,\n",
       "       7.91545158e-03, 5.95253242e-03, 4.43184841e-03, 3.26681906e-03,\n",
       "       2.38408820e-03, 1.72256894e-03, 1.23221917e-03, 8.72682695e-04,\n",
       "       6.11901930e-04, 4.24780271e-04, 2.91946926e-04, 1.98655471e-04])"
      ]
     },
     "execution_count": 303,
     "metadata": {},
     "output_type": "execute_result"
    }
   ],
   "source": [
    "uni_normal(x)"
   ]
  },
  {
   "cell_type": "code",
   "execution_count": 304,
   "metadata": {},
   "outputs": [
    {
     "data": {
      "text/plain": [
       "[<matplotlib.lines.Line2D at 0x7f38c882cba8>]"
      ]
     },
     "execution_count": 304,
     "metadata": {},
     "output_type": "execute_result"
    },
    {
     "data": {
      "image/png": "[encoded data removed]",
      "text/plain": [
       "<Figure size 432x288 with 1 Axes>"
      ]
     },
     "metadata": {
      "needs_background": "light"
     },
     "output_type": "display_data"
    }
   ],
   "source": [
    "plt.plot(x, uni_normal(x))"
   ]
  },
  {
   "cell_type": "code",
   "execution_count": 305,
   "metadata": {},
   "outputs": [],
   "source": [
    "def multi_normal(x, Sigma, Mu):\n",
    "    p = len(Mu)\n",
    "    N = 1.0 / math.sqrt(((2 * math.pi)**p * np.linalg.det(Sigma)))\n",
    "    exponent = - 0.5 * np.transpose(x - Mu) @ np.linalg.inv(Sigma) @ (x - Mu)\n",
    "    E = np.exp(exponent)\n",
    "    return N * E"
   ]
  },
  {
   "cell_type": "code",
   "execution_count": 306,
   "metadata": {},
   "outputs": [],
   "source": [
    "def multi_normal(x, Sigma, Mu):\n",
    "    p = len(Mu)\n",
    "    N = 1.0 / math.sqrt(((2 * math.pi)**p * np.linalg.det(Sigma)))\n",
    "    exponent = - 0.5 * np.transpose(x - Mu) @ np.linalg.inv(Sigma) @ (x - Mu)\n",
    "    E = np.exp(exponent)\n",
    "    return N * E\n",
    "\n",
    "\n",
    "def normal_dist(x, Sigma, Mu):\n",
    "    if len(x.shape) == 1 and len(Mu) == 1:\n",
    "        return uni_normal(x, Sigma, Mu)\n",
    "    if len(x.shape) == 1:\n",
    "        return multi_normal(x, Sigma, Mu)\n",
    "    return [multi_normal(a, Sigma, Mu) for a in x]\n",
    "    vfunc = np.vectorize(lambda a: multi_normal(a, Sigma, Mu))\n",
    "    return vfunc(x)\n",
    "        "
   ]
  },
  {
   "cell_type": "code",
   "execution_count": 307,
   "metadata": {},
   "outputs": [
    {
     "data": {
      "text/plain": [
       "0.05854983152431917"
      ]
     },
     "execution_count": 307,
     "metadata": {},
     "output_type": "execute_result"
    }
   ],
   "source": [
    "normal_dist(np.array([1,1]), np.array([[1,0],[0,1]]), np.array([0,0]))"
   ]
  },
  {
   "cell_type": "code",
   "execution_count": 10,
   "metadata": {},
   "outputs": [],
   "source": [
    "x_vec = np.array([[0,0],[1,1],[2,2]])\n",
    "Sigma = np.array([[1,0],[0,1]])\n",
    "Mu = np.array([0,0])"
   ]
  },
  {
   "cell_type": "code",
   "execution_count": 11,
   "metadata": {},
   "outputs": [
    {
     "data": {
      "text/plain": [
       "[0.15915494309189535, 0.05854983152431917, 0.0029150244650281935]"
      ]
     },
     "execution_count": 11,
     "metadata": {},
     "output_type": "execute_result"
    }
   ],
   "source": [
    "normal_dist(x_vec, Sigma, Mu)"
   ]
  },
  {
   "cell_type": "code",
   "execution_count": 12,
   "metadata": {},
   "outputs": [
    {
     "data": {
      "text/plain": [
       "1.0"
      ]
     },
     "execution_count": 12,
     "metadata": {},
     "output_type": "execute_result"
    }
   ],
   "source": [
    "np.linalg.det(np.mat([[1,0],[0,1]]))"
   ]
  },
  {
   "cell_type": "code",
   "execution_count": 13,
   "metadata": {},
   "outputs": [
    {
     "data": {
      "text/plain": [
       "2"
      ]
     },
     "execution_count": 13,
     "metadata": {},
     "output_type": "execute_result"
    }
   ],
   "source": [
    "np.dot([1,1],[1,1])"
   ]
  },
  {
   "cell_type": "code",
   "execution_count": 14,
   "metadata": {},
   "outputs": [],
   "source": [
    "X,Y = np.mgrid[-5:5.1:0.5, -5:5.1:0.5]"
   ]
  },
  {
   "cell_type": "code",
   "execution_count": 15,
   "metadata": {},
   "outputs": [],
   "source": [
    "import scipy.integrate as integrate"
   ]
  },
  {
   "cell_type": "code",
   "execution_count": 16,
   "metadata": {},
   "outputs": [],
   "source": [
    "xy = np.mgrid[-5:5.1:0.5, -5:5.1:0.5].reshape(2,-1).T"
   ]
  },
  {
   "cell_type": "code",
   "execution_count": 17,
   "metadata": {},
   "outputs": [],
   "source": [
    "xyz = [xy, normal_dist(xy, Sigma, Mu)]"
   ]
  },
  {
   "cell_type": "code",
   "execution_count": 18,
   "metadata": {},
   "outputs": [],
   "source": [
    "import seaborn as sns"
   ]
  },
  {
   "cell_type": "code",
   "execution_count": 19,
   "metadata": {},
   "outputs": [],
   "source": [
    "import pandas as pd"
   ]
  },
  {
   "cell_type": "code",
   "execution_count": 20,
   "metadata": {},
   "outputs": [],
   "source": [
    "df = pd.DataFrame(data=xy, columns=['x', 'y'])"
   ]
  },
  {
   "cell_type": "code",
   "execution_count": 21,
   "metadata": {},
   "outputs": [],
   "source": [
    "df['f'] = normal_dist(xy, Sigma, Mu)"
   ]
  },
  {
   "cell_type": "code",
   "execution_count": 22,
   "metadata": {},
   "outputs": [
    {
     "data": {
      "text/html": [
       "<div>\n",
       "<style scoped>\n",
       "    .dataframe tbody tr th:only-of-type {\n",
       "        vertical-align: middle;\n",
       "    }\n",
       "\n",
       "    .dataframe tbody tr th {\n",
       "        vertical-align: top;\n",
       "    }\n",
       "\n",
       "    .dataframe thead th {\n",
       "        text-align: right;\n",
       "    }\n",
       "</style>\n",
       "<table border=\"1\" class=\"dataframe\">\n",
       "  <thead>\n",
       "    <tr style=\"text-align: right;\">\n",
       "      <th></th>\n",
       "      <th>x</th>\n",
       "      <th>y</th>\n",
       "      <th>f</th>\n",
       "    </tr>\n",
       "  </thead>\n",
       "  <tbody>\n",
       "    <tr>\n",
       "      <th>436</th>\n",
       "      <td>5.0</td>\n",
       "      <td>3.0</td>\n",
       "      <td>6.588916e-09</td>\n",
       "    </tr>\n",
       "    <tr>\n",
       "      <th>437</th>\n",
       "      <td>5.0</td>\n",
       "      <td>3.5</td>\n",
       "      <td>1.297434e-09</td>\n",
       "    </tr>\n",
       "    <tr>\n",
       "      <th>438</th>\n",
       "      <td>5.0</td>\n",
       "      <td>4.0</td>\n",
       "      <td>1.989680e-10</td>\n",
       "    </tr>\n",
       "    <tr>\n",
       "      <th>439</th>\n",
       "      <td>5.0</td>\n",
       "      <td>4.5</td>\n",
       "      <td>2.376334e-11</td>\n",
       "    </tr>\n",
       "    <tr>\n",
       "      <th>440</th>\n",
       "      <td>5.0</td>\n",
       "      <td>5.0</td>\n",
       "      <td>2.210335e-12</td>\n",
       "    </tr>\n",
       "  </tbody>\n",
       "</table>\n",
       "</div>"
      ],
      "text/plain": [
       "       x    y             f\n",
       "436  5.0  3.0  6.588916e-09\n",
       "437  5.0  3.5  1.297434e-09\n",
       "438  5.0  4.0  1.989680e-10\n",
       "439  5.0  4.5  2.376334e-11\n",
       "440  5.0  5.0  2.210335e-12"
      ]
     },
     "execution_count": 22,
     "metadata": {},
     "output_type": "execute_result"
    }
   ],
   "source": [
    "df.tail()"
   ]
  },
  {
   "cell_type": "code",
   "execution_count": 24,
   "metadata": {},
   "outputs": [
    {
     "data": {
      "text/plain": [
       "<matplotlib.axes._subplots.AxesSubplot at 0x7fad6bc22940>"
      ]
     },
     "execution_count": 24,
     "metadata": {},
     "output_type": "execute_result"
    },
    {
     "data": {
      "image/png": "[encoded data removed]",
      "text/plain": [
       "<Figure size 432x288 with 2 Axes>"
      ]
     },
     "metadata": {
      "needs_background": "light"
     },
     "output_type": "display_data"
    }
   ],
   "source": [
    "sns.heatmap(df.pivot(index='x', columns='y', values='f'))"
   ]
  },
  {
   "cell_type": "code",
   "execution_count": 170,
   "metadata": {},
   "outputs": [
    {
     "data": {
      "text/html": [
       "<div>\n",
       "<style scoped>\n",
       "    .dataframe tbody tr th:only-of-type {\n",
       "        vertical-align: middle;\n",
       "    }\n",
       "\n",
       "    .dataframe tbody tr th {\n",
       "        vertical-align: top;\n",
       "    }\n",
       "\n",
       "    .dataframe thead th {\n",
       "        text-align: right;\n",
       "    }\n",
       "</style>\n",
       "<table border=\"1\" class=\"dataframe\">\n",
       "  <thead>\n",
       "    <tr style=\"text-align: right;\">\n",
       "      <th></th>\n",
       "      <th>x</th>\n",
       "      <th>y</th>\n",
       "      <th>f</th>\n",
       "    </tr>\n",
       "  </thead>\n",
       "  <tbody>\n",
       "    <tr>\n",
       "      <th>0</th>\n",
       "      <td>-5.0</td>\n",
       "      <td>-5.0</td>\n",
       "      <td>2.210335e-12</td>\n",
       "    </tr>\n",
       "    <tr>\n",
       "      <th>1</th>\n",
       "      <td>-5.0</td>\n",
       "      <td>-4.5</td>\n",
       "      <td>2.376334e-11</td>\n",
       "    </tr>\n",
       "    <tr>\n",
       "      <th>2</th>\n",
       "      <td>-5.0</td>\n",
       "      <td>-4.0</td>\n",
       "      <td>1.989680e-10</td>\n",
       "    </tr>\n",
       "    <tr>\n",
       "      <th>3</th>\n",
       "      <td>-5.0</td>\n",
       "      <td>-3.5</td>\n",
       "      <td>1.297434e-09</td>\n",
       "    </tr>\n",
       "    <tr>\n",
       "      <th>4</th>\n",
       "      <td>-5.0</td>\n",
       "      <td>-3.0</td>\n",
       "      <td>6.588916e-09</td>\n",
       "    </tr>\n",
       "  </tbody>\n",
       "</table>\n",
       "</div>"
      ],
      "text/plain": [
       "     x    y             f\n",
       "0 -5.0 -5.0  2.210335e-12\n",
       "1 -5.0 -4.5  2.376334e-11\n",
       "2 -5.0 -4.0  1.989680e-10\n",
       "3 -5.0 -3.5  1.297434e-09\n",
       "4 -5.0 -3.0  6.588916e-09"
      ]
     },
     "execution_count": 170,
     "metadata": {},
     "output_type": "execute_result"
    }
   ],
   "source": [
    "df[df.f > 0].head()"
   ]
  },
  {
   "cell_type": "code",
   "execution_count": 40,
   "metadata": {},
   "outputs": [
    {
     "data": {
      "text/plain": [
       "(0.9999999999999998, 1.0178191320905743e-08)"
      ]
     },
     "execution_count": 40,
     "metadata": {},
     "output_type": "execute_result"
    }
   ],
   "source": [
    "integrate.nquad(norm.pdf, [[-np.inf, np.inf]])"
   ]
  },
  {
   "cell_type": "markdown",
   "metadata": {},
   "source": [
    "## Inverse sampling Method\n",
    "https://en.wikipedia.org/wiki/Inverse_transform_sampling\n",
    "smirnov transform"
   ]
  },
  {
   "cell_type": "code",
   "execution_count": 32,
   "metadata": {},
   "outputs": [],
   "source": [
    "s = np.random.uniform(0,1,10000)"
   ]
  },
  {
   "cell_type": "code",
   "execution_count": 33,
   "metadata": {},
   "outputs": [
    {
     "data": {
      "text/plain": [
       "(array([1010., 1028.,  970., 1033.,  959., 1015.,  950., 1033., 1017.,\n",
       "         985.]),\n",
       " array([1.20163451e-04, 1.00071412e-01, 2.00022661e-01, 2.99973910e-01,\n",
       "        3.99925159e-01, 4.99876408e-01, 5.99827657e-01, 6.99778906e-01,\n",
       "        7.99730154e-01, 8.99681403e-01, 9.99632652e-01]),\n",
       " <a list of 10 Patch objects>)"
      ]
     },
     "execution_count": 33,
     "metadata": {},
     "output_type": "execute_result"
    },
    {
     "data": {
      "image/png": "[encoded data removed]",
      "text/plain": [
       "<Figure size 432x288 with 1 Axes>"
      ]
     },
     "metadata": {
      "needs_background": "light"
     },
     "output_type": "display_data"
    }
   ],
   "source": [
    "plt.hist(s)"
   ]
  },
  {
   "cell_type": "code",
   "execution_count": 8,
   "metadata": {},
   "outputs": [],
   "source": [
    "from scipy.stats import norm"
   ]
  },
  {
   "cell_type": "code",
   "execution_count": 9,
   "metadata": {},
   "outputs": [
    {
     "data": {
      "text/plain": [
       "0.8413447460685429"
      ]
     },
     "execution_count": 9,
     "metadata": {},
     "output_type": "execute_result"
    }
   ],
   "source": [
    "norm.cdf(1)"
   ]
  },
  {
   "cell_type": "code",
   "execution_count": 10,
   "metadata": {},
   "outputs": [
    {
     "data": {
      "text/plain": [
       "0.3989422804014327"
      ]
     },
     "execution_count": 10,
     "metadata": {},
     "output_type": "execute_result"
    }
   ],
   "source": [
    "# pdf\n",
    "norm.pdf(0)"
   ]
  },
  {
   "cell_type": "code",
   "execution_count": 11,
   "metadata": {},
   "outputs": [
    {
     "data": {
      "text/plain": [
       "(array([  20.,  157.,  713., 1927., 2895., 2583., 1269.,  381.,   48.,\n",
       "           7.]),\n",
       " array([-3.58709006, -2.83022791, -2.07336576, -1.31650361, -0.55964146,\n",
       "         0.19722069,  0.95408284,  1.71094499,  2.46780714,  3.22466929,\n",
       "         3.98153144]),\n",
       " <a list of 10 Patch objects>)"
      ]
     },
     "execution_count": 11,
     "metadata": {},
     "output_type": "execute_result"
    },
    {
     "data": {
      "image/png": "[encoded data removed]",
      "text/plain": [
       "<Figure size 432x288 with 1 Axes>"
      ]
     },
     "metadata": {
      "needs_background": "light"
     },
     "output_type": "display_data"
    }
   ],
   "source": [
    "plt.hist(norm.rvs(size=10000))"
   ]
  },
  {
   "cell_type": "code",
   "execution_count": 12,
   "metadata": {},
   "outputs": [],
   "source": [
    "#norm.pdf()"
   ]
  },
  {
   "cell_type": "code",
   "execution_count": 26,
   "metadata": {},
   "outputs": [],
   "source": [
    "sample = np.random.uniform(0,1,10000)"
   ]
  },
  {
   "cell_type": "code",
   "execution_count": 14,
   "metadata": {},
   "outputs": [
    {
     "data": {
      "text/plain": [
       "(array([  11.,   91.,  456., 1490., 2807., 2843., 1628.,  547.,  110.,\n",
       "          17.]),\n",
       " array([-3.91867707, -3.14505694, -2.37143681, -1.59781669, -0.82419656,\n",
       "        -0.05057643,  0.7230437 ,  1.49666382,  2.27028395,  3.04390408,\n",
       "         3.8175242 ]),\n",
       " <a list of 10 Patch objects>)"
      ]
     },
     "execution_count": 14,
     "metadata": {},
     "output_type": "execute_result"
    },
    {
     "data": {
      "image/png": "[encoded data removed]",
      "text/plain": [
       "<Figure size 432x288 with 1 Axes>"
      ]
     },
     "metadata": {
      "needs_background": "light"
     },
     "output_type": "display_data"
    }
   ],
   "source": [
    "plt.hist(norm.ppf(sample))"
   ]
  },
  {
   "cell_type": "code",
   "execution_count": 15,
   "metadata": {},
   "outputs": [
    {
     "data": {
      "text/plain": [
       "array([-10.        ,  -9.97997998,  -9.95995996,  -9.93993994,\n",
       "        -9.91991992])"
      ]
     },
     "execution_count": 15,
     "metadata": {},
     "output_type": "execute_result"
    }
   ],
   "source": [
    "x = np.linspace(-10,10,1000)\n",
    "x[:5]"
   ]
  },
  {
   "cell_type": "code",
   "execution_count": 16,
   "metadata": {},
   "outputs": [],
   "source": [
    "pdf = norm.pdf(x)"
   ]
  },
  {
   "cell_type": "code",
   "execution_count": 17,
   "metadata": {},
   "outputs": [
    {
     "data": {
      "text/plain": [
       "array([7.69459863e-23, 9.39820210e-23, 1.14743878e-22, 1.40036163e-22,\n",
       "       1.70834985e-22])"
      ]
     },
     "execution_count": 17,
     "metadata": {},
     "output_type": "execute_result"
    }
   ],
   "source": [
    "pdf[:5]"
   ]
  },
  {
   "cell_type": "code",
   "execution_count": 18,
   "metadata": {},
   "outputs": [
    {
     "data": {
      "text/plain": [
       "[<matplotlib.lines.Line2D at 0x7f38e4a6be48>]"
      ]
     },
     "execution_count": 18,
     "metadata": {},
     "output_type": "execute_result"
    },
    {
     "data": {
      "image/png": "[encoded data removed]",
      "text/plain": [
       "<Figure size 432x288 with 1 Axes>"
      ]
     },
     "metadata": {
      "needs_background": "light"
     },
     "output_type": "display_data"
    }
   ],
   "source": [
    "plt.plot(x,pdf)"
   ]
  },
  {
   "cell_type": "code",
   "execution_count": 19,
   "metadata": {},
   "outputs": [],
   "source": [
    "cdf = norm.cdf(x)"
   ]
  },
  {
   "cell_type": "code",
   "execution_count": 72,
   "metadata": {},
   "outputs": [],
   "source": [
    "from matplotlib import pyplot as plt\n",
    "import matplotlib"
   ]
  },
  {
   "cell_type": "code",
   "execution_count": 22,
   "metadata": {},
   "outputs": [
    {
     "data": {
      "text/plain": [
       "Text(0, 0.5, 'P(X>x)')"
      ]
     },
     "execution_count": 22,
     "metadata": {},
     "output_type": "execute_result"
    },
    {
     "data": {
      "image/png": "[encoded data removed]",
      "text/plain": [
       "<Figure size 432x288 with 1 Axes>"
      ]
     },
     "metadata": {
      "needs_background": "light"
     },
     "output_type": "display_data"
    }
   ],
   "source": [
    "plt.plot(x, cdf)\n",
    "#plt.xlabel = matplotlib.pyplot.xlabel\n",
    "plt.xlabel('x')\n",
    "plt.ylabel('P(X>x)')\n",
    "#plt.show()"
   ]
  },
  {
   "cell_type": "code",
   "execution_count": 32,
   "metadata": {},
   "outputs": [],
   "source": [
    "ppf = norm.ppf(x)"
   ]
  },
  {
   "cell_type": "code",
   "execution_count": 35,
   "metadata": {},
   "outputs": [
    {
     "data": {
      "text/plain": [
       "Text(0, 0.5, 'Q(p) = x')"
      ]
     },
     "execution_count": 35,
     "metadata": {},
     "output_type": "execute_result"
    },
    {
     "data": {
      "image/png": "[encoded data removed]",
      "text/plain": [
       "<Figure size 432x288 with 1 Axes>"
      ]
     },
     "metadata": {
      "needs_background": "light"
     },
     "output_type": "display_data"
    }
   ],
   "source": [
    "plt.plot(x,ppf)\n",
    "plt.xlabel('p')\n",
    "plt.ylabel('Q(p) = x')"
   ]
  },
  {
   "cell_type": "code",
   "execution_count": 31,
   "metadata": {},
   "outputs": [
    {
     "data": {
      "text/plain": [
       "array([0.12750917, 0.22154261, 0.33887132, ..., 0.37433378, 0.80658585,\n",
       "       0.74844797])"
      ]
     },
     "execution_count": 31,
     "metadata": {},
     "output_type": "execute_result"
    }
   ],
   "source": [
    "sample"
   ]
  },
  {
   "cell_type": "code",
   "execution_count": 36,
   "metadata": {},
   "outputs": [],
   "source": [
    "from scipy.stats import multivariate_normal"
   ]
  },
  {
   "cell_type": "code",
   "execution_count": 39,
   "metadata": {},
   "outputs": [],
   "source": [
    "sigma_1 = np.array([[1,0],[0,1]])\n",
    "sigma_2 = np.array([[1,0.4],[0.4,1]])\n",
    "mu = np.array([0,0])"
   ]
  },
  {
   "cell_type": "code",
   "execution_count": 46,
   "metadata": {},
   "outputs": [
    {
     "data": {
      "text/plain": [
       "<numpy.lib.index_tricks.nd_grid at 0x7f3934042160>"
      ]
     },
     "execution_count": 46,
     "metadata": {},
     "output_type": "execute_result"
    }
   ],
   "source": [
    "np.mgrid[]"
   ]
  },
  {
   "cell_type": "code",
   "execution_count": 41,
   "metadata": {},
   "outputs": [],
   "source": [
    "x,y = np.mgrid[-1:1:.01, -1:1:.01]"
   ]
  },
  {
   "cell_type": "code",
   "execution_count": 55,
   "metadata": {},
   "outputs": [
    {
     "data": {
      "text/plain": [
       "(2, 21, 21)"
      ]
     },
     "execution_count": 55,
     "metadata": {},
     "output_type": "execute_result"
    }
   ],
   "source": [
    "xy = np.mgrid[-5:5.1:0.5, -5:5.1:0.5]#\n",
    "#.reshape(2,-1).T\n",
    "xy.shape"
   ]
  },
  {
   "cell_type": "code",
   "execution_count": 45,
   "metadata": {},
   "outputs": [
    {
     "data": {
      "text/plain": [
       "array([[-5. , -5. ],\n",
       "       [-5. , -4.5],\n",
       "       [-5. , -4. ],\n",
       "       [-5. , -3.5],\n",
       "       [-5. , -3. ],\n",
       "       [-5. , -2.5],\n",
       "       [-5. , -2. ],\n",
       "       [-5. , -1.5],\n",
       "       [-5. , -1. ],\n",
       "       [-5. , -0.5],\n",
       "       [-5. ,  0. ],\n",
       "       [-5. ,  0.5],\n",
       "       [-5. ,  1. ],\n",
       "       [-5. ,  1.5],\n",
       "       [-5. ,  2. ],\n",
       "       [-5. ,  2.5],\n",
       "       [-5. ,  3. ],\n",
       "       [-5. ,  3.5],\n",
       "       [-5. ,  4. ],\n",
       "       [-5. ,  4.5],\n",
       "       [-5. ,  5. ],\n",
       "       [-4.5, -5. ],\n",
       "       [-4.5, -4.5],\n",
       "       [-4.5, -4. ],\n",
       "       [-4.5, -3.5],\n",
       "       [-4.5, -3. ],\n",
       "       [-4.5, -2.5],\n",
       "       [-4.5, -2. ],\n",
       "       [-4.5, -1.5],\n",
       "       [-4.5, -1. ],\n",
       "       [-4.5, -0.5],\n",
       "       [-4.5,  0. ],\n",
       "       [-4.5,  0.5],\n",
       "       [-4.5,  1. ],\n",
       "       [-4.5,  1.5],\n",
       "       [-4.5,  2. ],\n",
       "       [-4.5,  2.5],\n",
       "       [-4.5,  3. ],\n",
       "       [-4.5,  3.5],\n",
       "       [-4.5,  4. ],\n",
       "       [-4.5,  4.5],\n",
       "       [-4.5,  5. ],\n",
       "       [-4. , -5. ],\n",
       "       [-4. , -4.5],\n",
       "       [-4. , -4. ],\n",
       "       [-4. , -3.5],\n",
       "       [-4. , -3. ],\n",
       "       [-4. , -2.5],\n",
       "       [-4. , -2. ],\n",
       "       [-4. , -1.5],\n",
       "       [-4. , -1. ],\n",
       "       [-4. , -0.5],\n",
       "       [-4. ,  0. ],\n",
       "       [-4. ,  0.5],\n",
       "       [-4. ,  1. ],\n",
       "       [-4. ,  1.5],\n",
       "       [-4. ,  2. ],\n",
       "       [-4. ,  2.5],\n",
       "       [-4. ,  3. ],\n",
       "       [-4. ,  3.5],\n",
       "       [-4. ,  4. ],\n",
       "       [-4. ,  4.5],\n",
       "       [-4. ,  5. ],\n",
       "       [-3.5, -5. ],\n",
       "       [-3.5, -4.5],\n",
       "       [-3.5, -4. ],\n",
       "       [-3.5, -3.5],\n",
       "       [-3.5, -3. ],\n",
       "       [-3.5, -2.5],\n",
       "       [-3.5, -2. ],\n",
       "       [-3.5, -1.5],\n",
       "       [-3.5, -1. ],\n",
       "       [-3.5, -0.5],\n",
       "       [-3.5,  0. ],\n",
       "       [-3.5,  0.5],\n",
       "       [-3.5,  1. ],\n",
       "       [-3.5,  1.5],\n",
       "       [-3.5,  2. ],\n",
       "       [-3.5,  2.5],\n",
       "       [-3.5,  3. ],\n",
       "       [-3.5,  3.5],\n",
       "       [-3.5,  4. ],\n",
       "       [-3.5,  4.5],\n",
       "       [-3.5,  5. ],\n",
       "       [-3. , -5. ],\n",
       "       [-3. , -4.5],\n",
       "       [-3. , -4. ],\n",
       "       [-3. , -3.5],\n",
       "       [-3. , -3. ],\n",
       "       [-3. , -2.5],\n",
       "       [-3. , -2. ],\n",
       "       [-3. , -1.5],\n",
       "       [-3. , -1. ],\n",
       "       [-3. , -0.5],\n",
       "       [-3. ,  0. ],\n",
       "       [-3. ,  0.5],\n",
       "       [-3. ,  1. ],\n",
       "       [-3. ,  1.5],\n",
       "       [-3. ,  2. ],\n",
       "       [-3. ,  2.5],\n",
       "       [-3. ,  3. ],\n",
       "       [-3. ,  3.5],\n",
       "       [-3. ,  4. ],\n",
       "       [-3. ,  4.5],\n",
       "       [-3. ,  5. ],\n",
       "       [-2.5, -5. ],\n",
       "       [-2.5, -4.5],\n",
       "       [-2.5, -4. ],\n",
       "       [-2.5, -3.5],\n",
       "       [-2.5, -3. ],\n",
       "       [-2.5, -2.5],\n",
       "       [-2.5, -2. ],\n",
       "       [-2.5, -1.5],\n",
       "       [-2.5, -1. ],\n",
       "       [-2.5, -0.5],\n",
       "       [-2.5,  0. ],\n",
       "       [-2.5,  0.5],\n",
       "       [-2.5,  1. ],\n",
       "       [-2.5,  1.5],\n",
       "       [-2.5,  2. ],\n",
       "       [-2.5,  2.5],\n",
       "       [-2.5,  3. ],\n",
       "       [-2.5,  3.5],\n",
       "       [-2.5,  4. ],\n",
       "       [-2.5,  4.5],\n",
       "       [-2.5,  5. ],\n",
       "       [-2. , -5. ],\n",
       "       [-2. , -4.5],\n",
       "       [-2. , -4. ],\n",
       "       [-2. , -3.5],\n",
       "       [-2. , -3. ],\n",
       "       [-2. , -2.5],\n",
       "       [-2. , -2. ],\n",
       "       [-2. , -1.5],\n",
       "       [-2. , -1. ],\n",
       "       [-2. , -0.5],\n",
       "       [-2. ,  0. ],\n",
       "       [-2. ,  0.5],\n",
       "       [-2. ,  1. ],\n",
       "       [-2. ,  1.5],\n",
       "       [-2. ,  2. ],\n",
       "       [-2. ,  2.5],\n",
       "       [-2. ,  3. ],\n",
       "       [-2. ,  3.5],\n",
       "       [-2. ,  4. ],\n",
       "       [-2. ,  4.5],\n",
       "       [-2. ,  5. ],\n",
       "       [-1.5, -5. ],\n",
       "       [-1.5, -4.5],\n",
       "       [-1.5, -4. ],\n",
       "       [-1.5, -3.5],\n",
       "       [-1.5, -3. ],\n",
       "       [-1.5, -2.5],\n",
       "       [-1.5, -2. ],\n",
       "       [-1.5, -1.5],\n",
       "       [-1.5, -1. ],\n",
       "       [-1.5, -0.5],\n",
       "       [-1.5,  0. ],\n",
       "       [-1.5,  0.5],\n",
       "       [-1.5,  1. ],\n",
       "       [-1.5,  1.5],\n",
       "       [-1.5,  2. ],\n",
       "       [-1.5,  2.5],\n",
       "       [-1.5,  3. ],\n",
       "       [-1.5,  3.5],\n",
       "       [-1.5,  4. ],\n",
       "       [-1.5,  4.5],\n",
       "       [-1.5,  5. ],\n",
       "       [-1. , -5. ],\n",
       "       [-1. , -4.5],\n",
       "       [-1. , -4. ],\n",
       "       [-1. , -3.5],\n",
       "       [-1. , -3. ],\n",
       "       [-1. , -2.5],\n",
       "       [-1. , -2. ],\n",
       "       [-1. , -1.5],\n",
       "       [-1. , -1. ],\n",
       "       [-1. , -0.5],\n",
       "       [-1. ,  0. ],\n",
       "       [-1. ,  0.5],\n",
       "       [-1. ,  1. ],\n",
       "       [-1. ,  1.5],\n",
       "       [-1. ,  2. ],\n",
       "       [-1. ,  2.5],\n",
       "       [-1. ,  3. ],\n",
       "       [-1. ,  3.5],\n",
       "       [-1. ,  4. ],\n",
       "       [-1. ,  4.5],\n",
       "       [-1. ,  5. ],\n",
       "       [-0.5, -5. ],\n",
       "       [-0.5, -4.5],\n",
       "       [-0.5, -4. ],\n",
       "       [-0.5, -3.5],\n",
       "       [-0.5, -3. ],\n",
       "       [-0.5, -2.5],\n",
       "       [-0.5, -2. ],\n",
       "       [-0.5, -1.5],\n",
       "       [-0.5, -1. ],\n",
       "       [-0.5, -0.5],\n",
       "       [-0.5,  0. ],\n",
       "       [-0.5,  0.5],\n",
       "       [-0.5,  1. ],\n",
       "       [-0.5,  1.5],\n",
       "       [-0.5,  2. ],\n",
       "       [-0.5,  2.5],\n",
       "       [-0.5,  3. ],\n",
       "       [-0.5,  3.5],\n",
       "       [-0.5,  4. ],\n",
       "       [-0.5,  4.5],\n",
       "       [-0.5,  5. ],\n",
       "       [ 0. , -5. ],\n",
       "       [ 0. , -4.5],\n",
       "       [ 0. , -4. ],\n",
       "       [ 0. , -3.5],\n",
       "       [ 0. , -3. ],\n",
       "       [ 0. , -2.5],\n",
       "       [ 0. , -2. ],\n",
       "       [ 0. , -1.5],\n",
       "       [ 0. , -1. ],\n",
       "       [ 0. , -0.5],\n",
       "       [ 0. ,  0. ],\n",
       "       [ 0. ,  0.5],\n",
       "       [ 0. ,  1. ],\n",
       "       [ 0. ,  1.5],\n",
       "       [ 0. ,  2. ],\n",
       "       [ 0. ,  2.5],\n",
       "       [ 0. ,  3. ],\n",
       "       [ 0. ,  3.5],\n",
       "       [ 0. ,  4. ],\n",
       "       [ 0. ,  4.5],\n",
       "       [ 0. ,  5. ],\n",
       "       [ 0.5, -5. ],\n",
       "       [ 0.5, -4.5],\n",
       "       [ 0.5, -4. ],\n",
       "       [ 0.5, -3.5],\n",
       "       [ 0.5, -3. ],\n",
       "       [ 0.5, -2.5],\n",
       "       [ 0.5, -2. ],\n",
       "       [ 0.5, -1.5],\n",
       "       [ 0.5, -1. ],\n",
       "       [ 0.5, -0.5],\n",
       "       [ 0.5,  0. ],\n",
       "       [ 0.5,  0.5],\n",
       "       [ 0.5,  1. ],\n",
       "       [ 0.5,  1.5],\n",
       "       [ 0.5,  2. ],\n",
       "       [ 0.5,  2.5],\n",
       "       [ 0.5,  3. ],\n",
       "       [ 0.5,  3.5],\n",
       "       [ 0.5,  4. ],\n",
       "       [ 0.5,  4.5],\n",
       "       [ 0.5,  5. ],\n",
       "       [ 1. , -5. ],\n",
       "       [ 1. , -4.5],\n",
       "       [ 1. , -4. ],\n",
       "       [ 1. , -3.5],\n",
       "       [ 1. , -3. ],\n",
       "       [ 1. , -2.5],\n",
       "       [ 1. , -2. ],\n",
       "       [ 1. , -1.5],\n",
       "       [ 1. , -1. ],\n",
       "       [ 1. , -0.5],\n",
       "       [ 1. ,  0. ],\n",
       "       [ 1. ,  0.5],\n",
       "       [ 1. ,  1. ],\n",
       "       [ 1. ,  1.5],\n",
       "       [ 1. ,  2. ],\n",
       "       [ 1. ,  2.5],\n",
       "       [ 1. ,  3. ],\n",
       "       [ 1. ,  3.5],\n",
       "       [ 1. ,  4. ],\n",
       "       [ 1. ,  4.5],\n",
       "       [ 1. ,  5. ],\n",
       "       [ 1.5, -5. ],\n",
       "       [ 1.5, -4.5],\n",
       "       [ 1.5, -4. ],\n",
       "       [ 1.5, -3.5],\n",
       "       [ 1.5, -3. ],\n",
       "       [ 1.5, -2.5],\n",
       "       [ 1.5, -2. ],\n",
       "       [ 1.5, -1.5],\n",
       "       [ 1.5, -1. ],\n",
       "       [ 1.5, -0.5],\n",
       "       [ 1.5,  0. ],\n",
       "       [ 1.5,  0.5],\n",
       "       [ 1.5,  1. ],\n",
       "       [ 1.5,  1.5],\n",
       "       [ 1.5,  2. ],\n",
       "       [ 1.5,  2.5],\n",
       "       [ 1.5,  3. ],\n",
       "       [ 1.5,  3.5],\n",
       "       [ 1.5,  4. ],\n",
       "       [ 1.5,  4.5],\n",
       "       [ 1.5,  5. ],\n",
       "       [ 2. , -5. ],\n",
       "       [ 2. , -4.5],\n",
       "       [ 2. , -4. ],\n",
       "       [ 2. , -3.5],\n",
       "       [ 2. , -3. ],\n",
       "       [ 2. , -2.5],\n",
       "       [ 2. , -2. ],\n",
       "       [ 2. , -1.5],\n",
       "       [ 2. , -1. ],\n",
       "       [ 2. , -0.5],\n",
       "       [ 2. ,  0. ],\n",
       "       [ 2. ,  0.5],\n",
       "       [ 2. ,  1. ],\n",
       "       [ 2. ,  1.5],\n",
       "       [ 2. ,  2. ],\n",
       "       [ 2. ,  2.5],\n",
       "       [ 2. ,  3. ],\n",
       "       [ 2. ,  3.5],\n",
       "       [ 2. ,  4. ],\n",
       "       [ 2. ,  4.5],\n",
       "       [ 2. ,  5. ],\n",
       "       [ 2.5, -5. ],\n",
       "       [ 2.5, -4.5],\n",
       "       [ 2.5, -4. ],\n",
       "       [ 2.5, -3.5],\n",
       "       [ 2.5, -3. ],\n",
       "       [ 2.5, -2.5],\n",
       "       [ 2.5, -2. ],\n",
       "       [ 2.5, -1.5],\n",
       "       [ 2.5, -1. ],\n",
       "       [ 2.5, -0.5],\n",
       "       [ 2.5,  0. ],\n",
       "       [ 2.5,  0.5],\n",
       "       [ 2.5,  1. ],\n",
       "       [ 2.5,  1.5],\n",
       "       [ 2.5,  2. ],\n",
       "       [ 2.5,  2.5],\n",
       "       [ 2.5,  3. ],\n",
       "       [ 2.5,  3.5],\n",
       "       [ 2.5,  4. ],\n",
       "       [ 2.5,  4.5],\n",
       "       [ 2.5,  5. ],\n",
       "       [ 3. , -5. ],\n",
       "       [ 3. , -4.5],\n",
       "       [ 3. , -4. ],\n",
       "       [ 3. , -3.5],\n",
       "       [ 3. , -3. ],\n",
       "       [ 3. , -2.5],\n",
       "       [ 3. , -2. ],\n",
       "       [ 3. , -1.5],\n",
       "       [ 3. , -1. ],\n",
       "       [ 3. , -0.5],\n",
       "       [ 3. ,  0. ],\n",
       "       [ 3. ,  0.5],\n",
       "       [ 3. ,  1. ],\n",
       "       [ 3. ,  1.5],\n",
       "       [ 3. ,  2. ],\n",
       "       [ 3. ,  2.5],\n",
       "       [ 3. ,  3. ],\n",
       "       [ 3. ,  3.5],\n",
       "       [ 3. ,  4. ],\n",
       "       [ 3. ,  4.5],\n",
       "       [ 3. ,  5. ],\n",
       "       [ 3.5, -5. ],\n",
       "       [ 3.5, -4.5],\n",
       "       [ 3.5, -4. ],\n",
       "       [ 3.5, -3.5],\n",
       "       [ 3.5, -3. ],\n",
       "       [ 3.5, -2.5],\n",
       "       [ 3.5, -2. ],\n",
       "       [ 3.5, -1.5],\n",
       "       [ 3.5, -1. ],\n",
       "       [ 3.5, -0.5],\n",
       "       [ 3.5,  0. ],\n",
       "       [ 3.5,  0.5],\n",
       "       [ 3.5,  1. ],\n",
       "       [ 3.5,  1.5],\n",
       "       [ 3.5,  2. ],\n",
       "       [ 3.5,  2.5],\n",
       "       [ 3.5,  3. ],\n",
       "       [ 3.5,  3.5],\n",
       "       [ 3.5,  4. ],\n",
       "       [ 3.5,  4.5],\n",
       "       [ 3.5,  5. ],\n",
       "       [ 4. , -5. ],\n",
       "       [ 4. , -4.5],\n",
       "       [ 4. , -4. ],\n",
       "       [ 4. , -3.5],\n",
       "       [ 4. , -3. ],\n",
       "       [ 4. , -2.5],\n",
       "       [ 4. , -2. ],\n",
       "       [ 4. , -1.5],\n",
       "       [ 4. , -1. ],\n",
       "       [ 4. , -0.5],\n",
       "       [ 4. ,  0. ],\n",
       "       [ 4. ,  0.5],\n",
       "       [ 4. ,  1. ],\n",
       "       [ 4. ,  1.5],\n",
       "       [ 4. ,  2. ],\n",
       "       [ 4. ,  2.5],\n",
       "       [ 4. ,  3. ],\n",
       "       [ 4. ,  3.5],\n",
       "       [ 4. ,  4. ],\n",
       "       [ 4. ,  4.5],\n",
       "       [ 4. ,  5. ],\n",
       "       [ 4.5, -5. ],\n",
       "       [ 4.5, -4.5],\n",
       "       [ 4.5, -4. ],\n",
       "       [ 4.5, -3.5],\n",
       "       [ 4.5, -3. ],\n",
       "       [ 4.5, -2.5],\n",
       "       [ 4.5, -2. ],\n",
       "       [ 4.5, -1.5],\n",
       "       [ 4.5, -1. ],\n",
       "       [ 4.5, -0.5],\n",
       "       [ 4.5,  0. ],\n",
       "       [ 4.5,  0.5],\n",
       "       [ 4.5,  1. ],\n",
       "       [ 4.5,  1.5],\n",
       "       [ 4.5,  2. ],\n",
       "       [ 4.5,  2.5],\n",
       "       [ 4.5,  3. ],\n",
       "       [ 4.5,  3.5],\n",
       "       [ 4.5,  4. ],\n",
       "       [ 4.5,  4.5],\n",
       "       [ 4.5,  5. ],\n",
       "       [ 5. , -5. ],\n",
       "       [ 5. , -4.5],\n",
       "       [ 5. , -4. ],\n",
       "       [ 5. , -3.5],\n",
       "       [ 5. , -3. ],\n",
       "       [ 5. , -2.5],\n",
       "       [ 5. , -2. ],\n",
       "       [ 5. , -1.5],\n",
       "       [ 5. , -1. ],\n",
       "       [ 5. , -0.5],\n",
       "       [ 5. ,  0. ],\n",
       "       [ 5. ,  0.5],\n",
       "       [ 5. ,  1. ],\n",
       "       [ 5. ,  1.5],\n",
       "       [ 5. ,  2. ],\n",
       "       [ 5. ,  2.5],\n",
       "       [ 5. ,  3. ],\n",
       "       [ 5. ,  3.5],\n",
       "       [ 5. ,  4. ],\n",
       "       [ 5. ,  4.5],\n",
       "       [ 5. ,  5. ]])"
      ]
     },
     "execution_count": 45,
     "metadata": {},
     "output_type": "execute_result"
    }
   ],
   "source": [
    "xy"
   ]
  },
  {
   "cell_type": "code",
   "execution_count": 152,
   "metadata": {},
   "outputs": [],
   "source": [
    "xvalues = np.array([0, 1, 2, 3, 4, 5])\n",
    "yvalues = np.array([0, 1, 2, 3, 4, 5])"
   ]
  },
  {
   "cell_type": "code",
   "execution_count": 153,
   "metadata": {},
   "outputs": [],
   "source": [
    "xy = np.outer(xvalues, yvalues)"
   ]
  },
  {
   "cell_type": "code",
   "execution_count": 154,
   "metadata": {},
   "outputs": [
    {
     "data": {
      "text/plain": [
       "array([[0, 1],\n",
       "       [2, 3],\n",
       "       [4, 5]])"
      ]
     },
     "execution_count": 154,
     "metadata": {},
     "output_type": "execute_result"
    }
   ],
   "source": [
    "# inference\n",
    "xvalues.reshape((-1,2))"
   ]
  },
  {
   "cell_type": "code",
   "execution_count": 155,
   "metadata": {},
   "outputs": [],
   "source": [
    "xy = np.mgrid[0:3:1, 0:3:1]#"
   ]
  },
  {
   "cell_type": "code",
   "execution_count": 156,
   "metadata": {},
   "outputs": [
    {
     "data": {
      "text/plain": [
       "array([[[0, 0, 0],\n",
       "        [1, 1, 1],\n",
       "        [2, 2, 2]],\n",
       "\n",
       "       [[0, 1, 2],\n",
       "        [0, 1, 2],\n",
       "        [0, 1, 2]]])"
      ]
     },
     "execution_count": 156,
     "metadata": {},
     "output_type": "execute_result"
    }
   ],
   "source": [
    "xy"
   ]
  },
  {
   "cell_type": "code",
   "execution_count": 157,
   "metadata": {},
   "outputs": [
    {
     "data": {
      "text/plain": [
       "(2, 3, 3)"
      ]
     },
     "execution_count": 157,
     "metadata": {},
     "output_type": "execute_result"
    }
   ],
   "source": [
    "xy.shape"
   ]
  },
  {
   "cell_type": "code",
   "execution_count": 158,
   "metadata": {},
   "outputs": [
    {
     "data": {
      "text/plain": [
       "array([[0, 0],\n",
       "       [0, 1],\n",
       "       [0, 2],\n",
       "       [1, 0],\n",
       "       [1, 1],\n",
       "       [1, 2],\n",
       "       [2, 0],\n",
       "       [2, 1],\n",
       "       [2, 2]])"
      ]
     },
     "execution_count": 158,
     "metadata": {},
     "output_type": "execute_result"
    }
   ],
   "source": [
    "xy.reshape((2,-1)).T"
   ]
  },
  {
   "cell_type": "code",
   "execution_count": 159,
   "metadata": {},
   "outputs": [],
   "source": [
    "x = np.arange(0,10,2)"
   ]
  },
  {
   "cell_type": "markdown",
   "metadata": {},
   "source": [
    "xy = [[x1,y1], [x1,y2], ...[xn,y1]..[xn,yn]]"
   ]
  },
  {
   "cell_type": "code",
   "execution_count": 160,
   "metadata": {},
   "outputs": [],
   "source": [
    "import itertools"
   ]
  },
  {
   "cell_type": "code",
   "execution_count": 161,
   "metadata": {},
   "outputs": [],
   "source": [
    "xy = np.array([element for element in itertools.product(x, x)])"
   ]
  },
  {
   "cell_type": "code",
   "execution_count": 162,
   "metadata": {},
   "outputs": [
    {
     "data": {
      "text/plain": [
       "array([[0, 0],\n",
       "       [0, 2],\n",
       "       [0, 4],\n",
       "       [0, 6],\n",
       "       [0, 8],\n",
       "       [2, 0],\n",
       "       [2, 2],\n",
       "       [2, 4],\n",
       "       [2, 6],\n",
       "       [2, 8],\n",
       "       [4, 0],\n",
       "       [4, 2],\n",
       "       [4, 4],\n",
       "       [4, 6],\n",
       "       [4, 8],\n",
       "       [6, 0],\n",
       "       [6, 2],\n",
       "       [6, 4],\n",
       "       [6, 6],\n",
       "       [6, 8],\n",
       "       [8, 0],\n",
       "       [8, 2],\n",
       "       [8, 4],\n",
       "       [8, 6],\n",
       "       [8, 8]])"
      ]
     },
     "execution_count": 162,
     "metadata": {},
     "output_type": "execute_result"
    }
   ],
   "source": [
    "xy"
   ]
  },
  {
   "cell_type": "code",
   "execution_count": 163,
   "metadata": {},
   "outputs": [],
   "source": [
    "bivariate_gauss_1 = multivariate_normal(mean=mu, cov=sigma_1)"
   ]
  },
  {
   "cell_type": "code",
   "execution_count": 164,
   "metadata": {},
   "outputs": [],
   "source": [
    "z = bivariate_gauss_1.pdf(xy)"
   ]
  },
  {
   "cell_type": "code",
   "execution_count": 165,
   "metadata": {},
   "outputs": [],
   "source": [
    "x,y = xy.T"
   ]
  },
  {
   "cell_type": "code",
   "execution_count": 166,
   "metadata": {},
   "outputs": [
    {
     "data": {
      "text/plain": [
       "array([0, 0, 0, 0, 0, 2, 2, 2, 2, 2, 4, 4, 4, 4, 4, 6, 6, 6, 6, 6, 8, 8,\n",
       "       8, 8, 8])"
      ]
     },
     "execution_count": 166,
     "metadata": {},
     "output_type": "execute_result"
    }
   ],
   "source": [
    "x"
   ]
  },
  {
   "cell_type": "code",
   "execution_count": 167,
   "metadata": {},
   "outputs": [
    {
     "data": {
      "text/plain": [
       "array([0, 2, 4, 6, 8, 0, 2, 4, 6, 8, 0, 2, 4, 6, 8, 0, 2, 4, 6, 8, 0, 2,\n",
       "       4, 6, 8])"
      ]
     },
     "execution_count": 167,
     "metadata": {},
     "output_type": "execute_result"
    }
   ],
   "source": [
    "y"
   ]
  },
  {
   "cell_type": "code",
   "execution_count": 112,
   "metadata": {},
   "outputs": [],
   "source": [
    "#plt.imshow(x,y,z)"
   ]
  },
  {
   "cell_type": "code",
   "execution_count": 113,
   "metadata": {},
   "outputs": [],
   "source": [
    "a = zip(x,y,z)"
   ]
  },
  {
   "cell_type": "code",
   "execution_count": 129,
   "metadata": {},
   "outputs": [
    {
     "data": {
      "text/plain": [
       "array([[-30. , -30. , -30. , ..., -30. , -30. , -30. ],\n",
       "       [-29.5, -29.5, -29.5, ..., -29.5, -29.5, -29.5],\n",
       "       [-29. , -29. , -29. , ..., -29. , -29. , -29. ],\n",
       "       ...,\n",
       "       [ 28.5,  28.5,  28.5, ...,  28.5,  28.5,  28.5],\n",
       "       [ 29. ,  29. ,  29. , ...,  29. ,  29. ,  29. ],\n",
       "       [ 29.5,  29.5,  29.5, ...,  29.5,  29.5,  29.5]])"
      ]
     },
     "execution_count": 129,
     "metadata": {},
     "output_type": "execute_result"
    }
   ],
   "source": [
    "Y"
   ]
  },
  {
   "cell_type": "code",
   "execution_count": 130,
   "metadata": {},
   "outputs": [],
   "source": [
    "x = np.linspace(-6, 6, 30)\n",
    "y = np.linspace(-6, 6, 30)\n",
    "\n",
    "X, Y = np.meshgrid(x, y)"
   ]
  },
  {
   "cell_type": "code",
   "execution_count": 133,
   "metadata": {},
   "outputs": [],
   "source": [
    "import pandas as pd"
   ]
  },
  {
   "cell_type": "code",
   "execution_count": 135,
   "metadata": {},
   "outputs": [
    {
     "data": {
      "text/plain": [
       "array([-6.        , -5.5862069 , -5.17241379, -4.75862069, -4.34482759,\n",
       "       -3.93103448, -3.51724138, -3.10344828, -2.68965517, -2.27586207,\n",
       "       -1.86206897, -1.44827586, -1.03448276, -0.62068966, -0.20689655,\n",
       "        0.20689655,  0.62068966,  1.03448276,  1.44827586,  1.86206897,\n",
       "        2.27586207,  2.68965517,  3.10344828,  3.51724138,  3.93103448,\n",
       "        4.34482759,  4.75862069,  5.17241379,  5.5862069 ,  6.        ])"
      ]
     },
     "execution_count": 135,
     "metadata": {},
     "output_type": "execute_result"
    }
   ],
   "source": []
  },
  {
   "cell_type": "code",
   "execution_count": 138,
   "metadata": {},
   "outputs": [
    {
     "data": {
      "text/html": [
       "<div>\n",
       "<style scoped>\n",
       "    .dataframe tbody tr th:only-of-type {\n",
       "        vertical-align: middle;\n",
       "    }\n",
       "\n",
       "    .dataframe tbody tr th {\n",
       "        vertical-align: top;\n",
       "    }\n",
       "\n",
       "    .dataframe thead th {\n",
       "        text-align: right;\n",
       "    }\n",
       "</style>\n",
       "<table border=\"1\" class=\"dataframe\">\n",
       "  <thead>\n",
       "    <tr style=\"text-align: right;\">\n",
       "      <th>y</th>\n",
       "      <th>-6.0</th>\n",
       "      <th>-5.586206896551724</th>\n",
       "      <th>-5.172413793103448</th>\n",
       "      <th>-4.758620689655173</th>\n",
       "      <th>-4.344827586206897</th>\n",
       "      <th>-3.9310344827586206</th>\n",
       "      <th>-3.5172413793103448</th>\n",
       "      <th>-3.103448275862069</th>\n",
       "      <th>-2.689655172413793</th>\n",
       "      <th>-2.2758620689655173</th>\n",
       "      <th>...</th>\n",
       "      <th>0.2068965517241379</th>\n",
       "      <th>0.6206896551724137</th>\n",
       "      <th>1.0344827586206895</th>\n",
       "      <th>1.4482758620689653</th>\n",
       "      <th>1.862068965517241</th>\n",
       "      <th>2.275862068965518</th>\n",
       "      <th>2.6896551724137936</th>\n",
       "      <th>3.1034482758620694</th>\n",
       "      <th>3.517241379310345</th>\n",
       "      <th>3.931034482758621</th>\n",
       "    </tr>\n",
       "    <tr>\n",
       "      <th>x</th>\n",
       "      <th></th>\n",
       "      <th></th>\n",
       "      <th></th>\n",
       "      <th></th>\n",
       "      <th></th>\n",
       "      <th></th>\n",
       "      <th></th>\n",
       "      <th></th>\n",
       "      <th></th>\n",
       "      <th></th>\n",
       "      <th></th>\n",
       "      <th></th>\n",
       "      <th></th>\n",
       "      <th></th>\n",
       "      <th></th>\n",
       "      <th></th>\n",
       "      <th></th>\n",
       "      <th></th>\n",
       "      <th></th>\n",
       "      <th></th>\n",
       "      <th></th>\n",
       "    </tr>\n",
       "  </thead>\n",
       "  <tbody>\n",
       "    <tr>\n",
       "      <th>-6.000000</th>\n",
       "      <td>0.159155</td>\n",
       "      <td>NaN</td>\n",
       "      <td>NaN</td>\n",
       "      <td>NaN</td>\n",
       "      <td>NaN</td>\n",
       "      <td>NaN</td>\n",
       "      <td>NaN</td>\n",
       "      <td>NaN</td>\n",
       "      <td>NaN</td>\n",
       "      <td>NaN</td>\n",
       "      <td>...</td>\n",
       "      <td>NaN</td>\n",
       "      <td>NaN</td>\n",
       "      <td>NaN</td>\n",
       "      <td>NaN</td>\n",
       "      <td>NaN</td>\n",
       "      <td>NaN</td>\n",
       "      <td>NaN</td>\n",
       "      <td>NaN</td>\n",
       "      <td>NaN</td>\n",
       "      <td>NaN</td>\n",
       "    </tr>\n",
       "    <tr>\n",
       "      <th>-5.586207</th>\n",
       "      <td>NaN</td>\n",
       "      <td>0.021539</td>\n",
       "      <td>NaN</td>\n",
       "      <td>NaN</td>\n",
       "      <td>NaN</td>\n",
       "      <td>NaN</td>\n",
       "      <td>NaN</td>\n",
       "      <td>NaN</td>\n",
       "      <td>NaN</td>\n",
       "      <td>NaN</td>\n",
       "      <td>...</td>\n",
       "      <td>NaN</td>\n",
       "      <td>NaN</td>\n",
       "      <td>NaN</td>\n",
       "      <td>NaN</td>\n",
       "      <td>NaN</td>\n",
       "      <td>NaN</td>\n",
       "      <td>NaN</td>\n",
       "      <td>NaN</td>\n",
       "      <td>NaN</td>\n",
       "      <td>NaN</td>\n",
       "    </tr>\n",
       "    <tr>\n",
       "      <th>-5.172414</th>\n",
       "      <td>NaN</td>\n",
       "      <td>NaN</td>\n",
       "      <td>0.000053</td>\n",
       "      <td>NaN</td>\n",
       "      <td>NaN</td>\n",
       "      <td>NaN</td>\n",
       "      <td>NaN</td>\n",
       "      <td>NaN</td>\n",
       "      <td>NaN</td>\n",
       "      <td>NaN</td>\n",
       "      <td>...</td>\n",
       "      <td>NaN</td>\n",
       "      <td>NaN</td>\n",
       "      <td>NaN</td>\n",
       "      <td>NaN</td>\n",
       "      <td>NaN</td>\n",
       "      <td>NaN</td>\n",
       "      <td>NaN</td>\n",
       "      <td>NaN</td>\n",
       "      <td>NaN</td>\n",
       "      <td>NaN</td>\n",
       "    </tr>\n",
       "    <tr>\n",
       "      <th>-4.758621</th>\n",
       "      <td>NaN</td>\n",
       "      <td>NaN</td>\n",
       "      <td>NaN</td>\n",
       "      <td>2.423927e-09</td>\n",
       "      <td>NaN</td>\n",
       "      <td>NaN</td>\n",
       "      <td>NaN</td>\n",
       "      <td>NaN</td>\n",
       "      <td>NaN</td>\n",
       "      <td>NaN</td>\n",
       "      <td>...</td>\n",
       "      <td>NaN</td>\n",
       "      <td>NaN</td>\n",
       "      <td>NaN</td>\n",
       "      <td>NaN</td>\n",
       "      <td>NaN</td>\n",
       "      <td>NaN</td>\n",
       "      <td>NaN</td>\n",
       "      <td>NaN</td>\n",
       "      <td>NaN</td>\n",
       "      <td>NaN</td>\n",
       "    </tr>\n",
       "    <tr>\n",
       "      <th>-4.344828</th>\n",
       "      <td>NaN</td>\n",
       "      <td>NaN</td>\n",
       "      <td>NaN</td>\n",
       "      <td>NaN</td>\n",
       "      <td>2.015565e-15</td>\n",
       "      <td>NaN</td>\n",
       "      <td>NaN</td>\n",
       "      <td>NaN</td>\n",
       "      <td>NaN</td>\n",
       "      <td>NaN</td>\n",
       "      <td>...</td>\n",
       "      <td>NaN</td>\n",
       "      <td>NaN</td>\n",
       "      <td>NaN</td>\n",
       "      <td>NaN</td>\n",
       "      <td>NaN</td>\n",
       "      <td>NaN</td>\n",
       "      <td>NaN</td>\n",
       "      <td>NaN</td>\n",
       "      <td>NaN</td>\n",
       "      <td>NaN</td>\n",
       "    </tr>\n",
       "    <tr>\n",
       "      <th>-3.931034</th>\n",
       "      <td>NaN</td>\n",
       "      <td>NaN</td>\n",
       "      <td>NaN</td>\n",
       "      <td>NaN</td>\n",
       "      <td>NaN</td>\n",
       "      <td>0.021539</td>\n",
       "      <td>NaN</td>\n",
       "      <td>NaN</td>\n",
       "      <td>NaN</td>\n",
       "      <td>NaN</td>\n",
       "      <td>...</td>\n",
       "      <td>NaN</td>\n",
       "      <td>NaN</td>\n",
       "      <td>NaN</td>\n",
       "      <td>NaN</td>\n",
       "      <td>NaN</td>\n",
       "      <td>NaN</td>\n",
       "      <td>NaN</td>\n",
       "      <td>NaN</td>\n",
       "      <td>NaN</td>\n",
       "      <td>NaN</td>\n",
       "    </tr>\n",
       "    <tr>\n",
       "      <th>-3.517241</th>\n",
       "      <td>NaN</td>\n",
       "      <td>NaN</td>\n",
       "      <td>NaN</td>\n",
       "      <td>NaN</td>\n",
       "      <td>NaN</td>\n",
       "      <td>NaN</td>\n",
       "      <td>0.002915</td>\n",
       "      <td>NaN</td>\n",
       "      <td>NaN</td>\n",
       "      <td>NaN</td>\n",
       "      <td>...</td>\n",
       "      <td>NaN</td>\n",
       "      <td>NaN</td>\n",
       "      <td>NaN</td>\n",
       "      <td>NaN</td>\n",
       "      <td>NaN</td>\n",
       "      <td>NaN</td>\n",
       "      <td>NaN</td>\n",
       "      <td>NaN</td>\n",
       "      <td>NaN</td>\n",
       "      <td>NaN</td>\n",
       "    </tr>\n",
       "    <tr>\n",
       "      <th>-3.103448</th>\n",
       "      <td>NaN</td>\n",
       "      <td>NaN</td>\n",
       "      <td>NaN</td>\n",
       "      <td>NaN</td>\n",
       "      <td>NaN</td>\n",
       "      <td>NaN</td>\n",
       "      <td>NaN</td>\n",
       "      <td>0.000007</td>\n",
       "      <td>NaN</td>\n",
       "      <td>NaN</td>\n",
       "      <td>...</td>\n",
       "      <td>NaN</td>\n",
       "      <td>NaN</td>\n",
       "      <td>NaN</td>\n",
       "      <td>NaN</td>\n",
       "      <td>NaN</td>\n",
       "      <td>NaN</td>\n",
       "      <td>NaN</td>\n",
       "      <td>NaN</td>\n",
       "      <td>NaN</td>\n",
       "      <td>NaN</td>\n",
       "    </tr>\n",
       "    <tr>\n",
       "      <th>-2.689655</th>\n",
       "      <td>NaN</td>\n",
       "      <td>NaN</td>\n",
       "      <td>NaN</td>\n",
       "      <td>NaN</td>\n",
       "      <td>NaN</td>\n",
       "      <td>NaN</td>\n",
       "      <td>NaN</td>\n",
       "      <td>NaN</td>\n",
       "      <td>3.280428e-10</td>\n",
       "      <td>NaN</td>\n",
       "      <td>...</td>\n",
       "      <td>NaN</td>\n",
       "      <td>NaN</td>\n",
       "      <td>NaN</td>\n",
       "      <td>NaN</td>\n",
       "      <td>NaN</td>\n",
       "      <td>NaN</td>\n",
       "      <td>NaN</td>\n",
       "      <td>NaN</td>\n",
       "      <td>NaN</td>\n",
       "      <td>NaN</td>\n",
       "    </tr>\n",
       "    <tr>\n",
       "      <th>-2.275862</th>\n",
       "      <td>NaN</td>\n",
       "      <td>NaN</td>\n",
       "      <td>NaN</td>\n",
       "      <td>NaN</td>\n",
       "      <td>NaN</td>\n",
       "      <td>NaN</td>\n",
       "      <td>NaN</td>\n",
       "      <td>NaN</td>\n",
       "      <td>NaN</td>\n",
       "      <td>2.727770e-16</td>\n",
       "      <td>...</td>\n",
       "      <td>NaN</td>\n",
       "      <td>NaN</td>\n",
       "      <td>NaN</td>\n",
       "      <td>NaN</td>\n",
       "      <td>NaN</td>\n",
       "      <td>NaN</td>\n",
       "      <td>NaN</td>\n",
       "      <td>NaN</td>\n",
       "      <td>NaN</td>\n",
       "      <td>NaN</td>\n",
       "    </tr>\n",
       "    <tr>\n",
       "      <th>-1.862069</th>\n",
       "      <td>NaN</td>\n",
       "      <td>NaN</td>\n",
       "      <td>NaN</td>\n",
       "      <td>NaN</td>\n",
       "      <td>NaN</td>\n",
       "      <td>NaN</td>\n",
       "      <td>NaN</td>\n",
       "      <td>NaN</td>\n",
       "      <td>NaN</td>\n",
       "      <td>NaN</td>\n",
       "      <td>...</td>\n",
       "      <td>NaN</td>\n",
       "      <td>NaN</td>\n",
       "      <td>NaN</td>\n",
       "      <td>NaN</td>\n",
       "      <td>NaN</td>\n",
       "      <td>NaN</td>\n",
       "      <td>NaN</td>\n",
       "      <td>NaN</td>\n",
       "      <td>NaN</td>\n",
       "      <td>NaN</td>\n",
       "    </tr>\n",
       "    <tr>\n",
       "      <th>-1.448276</th>\n",
       "      <td>NaN</td>\n",
       "      <td>NaN</td>\n",
       "      <td>NaN</td>\n",
       "      <td>NaN</td>\n",
       "      <td>NaN</td>\n",
       "      <td>NaN</td>\n",
       "      <td>NaN</td>\n",
       "      <td>NaN</td>\n",
       "      <td>NaN</td>\n",
       "      <td>NaN</td>\n",
       "      <td>...</td>\n",
       "      <td>NaN</td>\n",
       "      <td>NaN</td>\n",
       "      <td>NaN</td>\n",
       "      <td>NaN</td>\n",
       "      <td>NaN</td>\n",
       "      <td>NaN</td>\n",
       "      <td>NaN</td>\n",
       "      <td>NaN</td>\n",
       "      <td>NaN</td>\n",
       "      <td>NaN</td>\n",
       "    </tr>\n",
       "    <tr>\n",
       "      <th>-1.034483</th>\n",
       "      <td>NaN</td>\n",
       "      <td>NaN</td>\n",
       "      <td>NaN</td>\n",
       "      <td>NaN</td>\n",
       "      <td>NaN</td>\n",
       "      <td>NaN</td>\n",
       "      <td>NaN</td>\n",
       "      <td>NaN</td>\n",
       "      <td>NaN</td>\n",
       "      <td>NaN</td>\n",
       "      <td>...</td>\n",
       "      <td>NaN</td>\n",
       "      <td>NaN</td>\n",
       "      <td>NaN</td>\n",
       "      <td>NaN</td>\n",
       "      <td>NaN</td>\n",
       "      <td>NaN</td>\n",
       "      <td>NaN</td>\n",
       "      <td>NaN</td>\n",
       "      <td>NaN</td>\n",
       "      <td>NaN</td>\n",
       "    </tr>\n",
       "    <tr>\n",
       "      <th>-0.620690</th>\n",
       "      <td>NaN</td>\n",
       "      <td>NaN</td>\n",
       "      <td>NaN</td>\n",
       "      <td>NaN</td>\n",
       "      <td>NaN</td>\n",
       "      <td>NaN</td>\n",
       "      <td>NaN</td>\n",
       "      <td>NaN</td>\n",
       "      <td>NaN</td>\n",
       "      <td>NaN</td>\n",
       "      <td>...</td>\n",
       "      <td>NaN</td>\n",
       "      <td>NaN</td>\n",
       "      <td>NaN</td>\n",
       "      <td>NaN</td>\n",
       "      <td>NaN</td>\n",
       "      <td>NaN</td>\n",
       "      <td>NaN</td>\n",
       "      <td>NaN</td>\n",
       "      <td>NaN</td>\n",
       "      <td>NaN</td>\n",
       "    </tr>\n",
       "    <tr>\n",
       "      <th>-0.206897</th>\n",
       "      <td>NaN</td>\n",
       "      <td>NaN</td>\n",
       "      <td>NaN</td>\n",
       "      <td>NaN</td>\n",
       "      <td>NaN</td>\n",
       "      <td>NaN</td>\n",
       "      <td>NaN</td>\n",
       "      <td>NaN</td>\n",
       "      <td>NaN</td>\n",
       "      <td>NaN</td>\n",
       "      <td>...</td>\n",
       "      <td>NaN</td>\n",
       "      <td>NaN</td>\n",
       "      <td>NaN</td>\n",
       "      <td>NaN</td>\n",
       "      <td>NaN</td>\n",
       "      <td>NaN</td>\n",
       "      <td>NaN</td>\n",
       "      <td>NaN</td>\n",
       "      <td>NaN</td>\n",
       "      <td>NaN</td>\n",
       "    </tr>\n",
       "    <tr>\n",
       "      <th>0.206897</th>\n",
       "      <td>NaN</td>\n",
       "      <td>NaN</td>\n",
       "      <td>NaN</td>\n",
       "      <td>NaN</td>\n",
       "      <td>NaN</td>\n",
       "      <td>NaN</td>\n",
       "      <td>NaN</td>\n",
       "      <td>NaN</td>\n",
       "      <td>NaN</td>\n",
       "      <td>NaN</td>\n",
       "      <td>...</td>\n",
       "      <td>2.423927e-09</td>\n",
       "      <td>NaN</td>\n",
       "      <td>NaN</td>\n",
       "      <td>NaN</td>\n",
       "      <td>NaN</td>\n",
       "      <td>NaN</td>\n",
       "      <td>NaN</td>\n",
       "      <td>NaN</td>\n",
       "      <td>NaN</td>\n",
       "      <td>NaN</td>\n",
       "    </tr>\n",
       "    <tr>\n",
       "      <th>0.620690</th>\n",
       "      <td>NaN</td>\n",
       "      <td>NaN</td>\n",
       "      <td>NaN</td>\n",
       "      <td>NaN</td>\n",
       "      <td>NaN</td>\n",
       "      <td>NaN</td>\n",
       "      <td>NaN</td>\n",
       "      <td>NaN</td>\n",
       "      <td>NaN</td>\n",
       "      <td>NaN</td>\n",
       "      <td>...</td>\n",
       "      <td>NaN</td>\n",
       "      <td>3.280428e-10</td>\n",
       "      <td>NaN</td>\n",
       "      <td>NaN</td>\n",
       "      <td>NaN</td>\n",
       "      <td>NaN</td>\n",
       "      <td>NaN</td>\n",
       "      <td>NaN</td>\n",
       "      <td>NaN</td>\n",
       "      <td>NaN</td>\n",
       "    </tr>\n",
       "    <tr>\n",
       "      <th>1.034483</th>\n",
       "      <td>NaN</td>\n",
       "      <td>NaN</td>\n",
       "      <td>NaN</td>\n",
       "      <td>NaN</td>\n",
       "      <td>NaN</td>\n",
       "      <td>NaN</td>\n",
       "      <td>NaN</td>\n",
       "      <td>NaN</td>\n",
       "      <td>NaN</td>\n",
       "      <td>NaN</td>\n",
       "      <td>...</td>\n",
       "      <td>NaN</td>\n",
       "      <td>NaN</td>\n",
       "      <td>8.131368e-13</td>\n",
       "      <td>NaN</td>\n",
       "      <td>NaN</td>\n",
       "      <td>NaN</td>\n",
       "      <td>NaN</td>\n",
       "      <td>NaN</td>\n",
       "      <td>NaN</td>\n",
       "      <td>NaN</td>\n",
       "    </tr>\n",
       "    <tr>\n",
       "      <th>1.448276</th>\n",
       "      <td>NaN</td>\n",
       "      <td>NaN</td>\n",
       "      <td>NaN</td>\n",
       "      <td>NaN</td>\n",
       "      <td>NaN</td>\n",
       "      <td>NaN</td>\n",
       "      <td>NaN</td>\n",
       "      <td>NaN</td>\n",
       "      <td>NaN</td>\n",
       "      <td>NaN</td>\n",
       "      <td>...</td>\n",
       "      <td>NaN</td>\n",
       "      <td>NaN</td>\n",
       "      <td>NaN</td>\n",
       "      <td>3.691635e-17</td>\n",
       "      <td>NaN</td>\n",
       "      <td>NaN</td>\n",
       "      <td>NaN</td>\n",
       "      <td>NaN</td>\n",
       "      <td>NaN</td>\n",
       "      <td>NaN</td>\n",
       "    </tr>\n",
       "    <tr>\n",
       "      <th>1.862069</th>\n",
       "      <td>NaN</td>\n",
       "      <td>NaN</td>\n",
       "      <td>NaN</td>\n",
       "      <td>NaN</td>\n",
       "      <td>NaN</td>\n",
       "      <td>NaN</td>\n",
       "      <td>NaN</td>\n",
       "      <td>NaN</td>\n",
       "      <td>NaN</td>\n",
       "      <td>NaN</td>\n",
       "      <td>...</td>\n",
       "      <td>NaN</td>\n",
       "      <td>NaN</td>\n",
       "      <td>NaN</td>\n",
       "      <td>NaN</td>\n",
       "      <td>3.069701e-23</td>\n",
       "      <td>NaN</td>\n",
       "      <td>NaN</td>\n",
       "      <td>NaN</td>\n",
       "      <td>NaN</td>\n",
       "      <td>NaN</td>\n",
       "    </tr>\n",
       "    <tr>\n",
       "      <th>2.275862</th>\n",
       "      <td>NaN</td>\n",
       "      <td>NaN</td>\n",
       "      <td>NaN</td>\n",
       "      <td>NaN</td>\n",
       "      <td>NaN</td>\n",
       "      <td>NaN</td>\n",
       "      <td>NaN</td>\n",
       "      <td>NaN</td>\n",
       "      <td>NaN</td>\n",
       "      <td>NaN</td>\n",
       "      <td>...</td>\n",
       "      <td>NaN</td>\n",
       "      <td>NaN</td>\n",
       "      <td>NaN</td>\n",
       "      <td>NaN</td>\n",
       "      <td>NaN</td>\n",
       "      <td>2.015565e-15</td>\n",
       "      <td>NaN</td>\n",
       "      <td>NaN</td>\n",
       "      <td>NaN</td>\n",
       "      <td>NaN</td>\n",
       "    </tr>\n",
       "    <tr>\n",
       "      <th>2.689655</th>\n",
       "      <td>NaN</td>\n",
       "      <td>NaN</td>\n",
       "      <td>NaN</td>\n",
       "      <td>NaN</td>\n",
       "      <td>NaN</td>\n",
       "      <td>NaN</td>\n",
       "      <td>NaN</td>\n",
       "      <td>NaN</td>\n",
       "      <td>NaN</td>\n",
       "      <td>NaN</td>\n",
       "      <td>...</td>\n",
       "      <td>NaN</td>\n",
       "      <td>NaN</td>\n",
       "      <td>NaN</td>\n",
       "      <td>NaN</td>\n",
       "      <td>NaN</td>\n",
       "      <td>NaN</td>\n",
       "      <td>2.727770e-16</td>\n",
       "      <td>NaN</td>\n",
       "      <td>NaN</td>\n",
       "      <td>NaN</td>\n",
       "    </tr>\n",
       "    <tr>\n",
       "      <th>3.103448</th>\n",
       "      <td>NaN</td>\n",
       "      <td>NaN</td>\n",
       "      <td>NaN</td>\n",
       "      <td>NaN</td>\n",
       "      <td>NaN</td>\n",
       "      <td>NaN</td>\n",
       "      <td>NaN</td>\n",
       "      <td>NaN</td>\n",
       "      <td>NaN</td>\n",
       "      <td>NaN</td>\n",
       "      <td>...</td>\n",
       "      <td>NaN</td>\n",
       "      <td>NaN</td>\n",
       "      <td>NaN</td>\n",
       "      <td>NaN</td>\n",
       "      <td>NaN</td>\n",
       "      <td>NaN</td>\n",
       "      <td>NaN</td>\n",
       "      <td>6.761466e-19</td>\n",
       "      <td>NaN</td>\n",
       "      <td>NaN</td>\n",
       "    </tr>\n",
       "    <tr>\n",
       "      <th>3.517241</th>\n",
       "      <td>NaN</td>\n",
       "      <td>NaN</td>\n",
       "      <td>NaN</td>\n",
       "      <td>NaN</td>\n",
       "      <td>NaN</td>\n",
       "      <td>NaN</td>\n",
       "      <td>NaN</td>\n",
       "      <td>NaN</td>\n",
       "      <td>NaN</td>\n",
       "      <td>NaN</td>\n",
       "      <td>...</td>\n",
       "      <td>NaN</td>\n",
       "      <td>NaN</td>\n",
       "      <td>NaN</td>\n",
       "      <td>NaN</td>\n",
       "      <td>NaN</td>\n",
       "      <td>NaN</td>\n",
       "      <td>NaN</td>\n",
       "      <td>NaN</td>\n",
       "      <td>3.069701e-23</td>\n",
       "      <td>NaN</td>\n",
       "    </tr>\n",
       "    <tr>\n",
       "      <th>3.931034</th>\n",
       "      <td>NaN</td>\n",
       "      <td>NaN</td>\n",
       "      <td>NaN</td>\n",
       "      <td>NaN</td>\n",
       "      <td>NaN</td>\n",
       "      <td>NaN</td>\n",
       "      <td>NaN</td>\n",
       "      <td>NaN</td>\n",
       "      <td>NaN</td>\n",
       "      <td>NaN</td>\n",
       "      <td>...</td>\n",
       "      <td>NaN</td>\n",
       "      <td>NaN</td>\n",
       "      <td>NaN</td>\n",
       "      <td>NaN</td>\n",
       "      <td>NaN</td>\n",
       "      <td>NaN</td>\n",
       "      <td>NaN</td>\n",
       "      <td>NaN</td>\n",
       "      <td>NaN</td>\n",
       "      <td>2.552544e-29</td>\n",
       "    </tr>\n",
       "  </tbody>\n",
       "</table>\n",
       "<p>25 rows × 25 columns</p>\n",
       "</div>"
      ],
      "text/plain": [
       "y          -6.000000  -5.586207  -5.172414     -4.758621     -4.344828  \\\n",
       "x                                                                        \n",
       "-6.000000   0.159155        NaN        NaN           NaN           NaN   \n",
       "-5.586207        NaN   0.021539        NaN           NaN           NaN   \n",
       "-5.172414        NaN        NaN   0.000053           NaN           NaN   \n",
       "-4.758621        NaN        NaN        NaN  2.423927e-09           NaN   \n",
       "-4.344828        NaN        NaN        NaN           NaN  2.015565e-15   \n",
       "-3.931034        NaN        NaN        NaN           NaN           NaN   \n",
       "-3.517241        NaN        NaN        NaN           NaN           NaN   \n",
       "-3.103448        NaN        NaN        NaN           NaN           NaN   \n",
       "-2.689655        NaN        NaN        NaN           NaN           NaN   \n",
       "-2.275862        NaN        NaN        NaN           NaN           NaN   \n",
       "-1.862069        NaN        NaN        NaN           NaN           NaN   \n",
       "-1.448276        NaN        NaN        NaN           NaN           NaN   \n",
       "-1.034483        NaN        NaN        NaN           NaN           NaN   \n",
       "-0.620690        NaN        NaN        NaN           NaN           NaN   \n",
       "-0.206897        NaN        NaN        NaN           NaN           NaN   \n",
       " 0.206897        NaN        NaN        NaN           NaN           NaN   \n",
       " 0.620690        NaN        NaN        NaN           NaN           NaN   \n",
       " 1.034483        NaN        NaN        NaN           NaN           NaN   \n",
       " 1.448276        NaN        NaN        NaN           NaN           NaN   \n",
       " 1.862069        NaN        NaN        NaN           NaN           NaN   \n",
       " 2.275862        NaN        NaN        NaN           NaN           NaN   \n",
       " 2.689655        NaN        NaN        NaN           NaN           NaN   \n",
       " 3.103448        NaN        NaN        NaN           NaN           NaN   \n",
       " 3.517241        NaN        NaN        NaN           NaN           NaN   \n",
       " 3.931034        NaN        NaN        NaN           NaN           NaN   \n",
       "\n",
       "y          -3.931034  -3.517241  -3.103448     -2.689655     -2.275862  \\\n",
       "x                                                                        \n",
       "-6.000000        NaN        NaN        NaN           NaN           NaN   \n",
       "-5.586207        NaN        NaN        NaN           NaN           NaN   \n",
       "-5.172414        NaN        NaN        NaN           NaN           NaN   \n",
       "-4.758621        NaN        NaN        NaN           NaN           NaN   \n",
       "-4.344828        NaN        NaN        NaN           NaN           NaN   \n",
       "-3.931034   0.021539        NaN        NaN           NaN           NaN   \n",
       "-3.517241        NaN   0.002915        NaN           NaN           NaN   \n",
       "-3.103448        NaN        NaN   0.000007           NaN           NaN   \n",
       "-2.689655        NaN        NaN        NaN  3.280428e-10           NaN   \n",
       "-2.275862        NaN        NaN        NaN           NaN  2.727770e-16   \n",
       "-1.862069        NaN        NaN        NaN           NaN           NaN   \n",
       "-1.448276        NaN        NaN        NaN           NaN           NaN   \n",
       "-1.034483        NaN        NaN        NaN           NaN           NaN   \n",
       "-0.620690        NaN        NaN        NaN           NaN           NaN   \n",
       "-0.206897        NaN        NaN        NaN           NaN           NaN   \n",
       " 0.206897        NaN        NaN        NaN           NaN           NaN   \n",
       " 0.620690        NaN        NaN        NaN           NaN           NaN   \n",
       " 1.034483        NaN        NaN        NaN           NaN           NaN   \n",
       " 1.448276        NaN        NaN        NaN           NaN           NaN   \n",
       " 1.862069        NaN        NaN        NaN           NaN           NaN   \n",
       " 2.275862        NaN        NaN        NaN           NaN           NaN   \n",
       " 2.689655        NaN        NaN        NaN           NaN           NaN   \n",
       " 3.103448        NaN        NaN        NaN           NaN           NaN   \n",
       " 3.517241        NaN        NaN        NaN           NaN           NaN   \n",
       " 3.931034        NaN        NaN        NaN           NaN           NaN   \n",
       "\n",
       "y              ...           0.206897      0.620690      1.034483  \\\n",
       "x              ...                                                  \n",
       "-6.000000      ...                NaN           NaN           NaN   \n",
       "-5.586207      ...                NaN           NaN           NaN   \n",
       "-5.172414      ...                NaN           NaN           NaN   \n",
       "-4.758621      ...                NaN           NaN           NaN   \n",
       "-4.344828      ...                NaN           NaN           NaN   \n",
       "-3.931034      ...                NaN           NaN           NaN   \n",
       "-3.517241      ...                NaN           NaN           NaN   \n",
       "-3.103448      ...                NaN           NaN           NaN   \n",
       "-2.689655      ...                NaN           NaN           NaN   \n",
       "-2.275862      ...                NaN           NaN           NaN   \n",
       "-1.862069      ...                NaN           NaN           NaN   \n",
       "-1.448276      ...                NaN           NaN           NaN   \n",
       "-1.034483      ...                NaN           NaN           NaN   \n",
       "-0.620690      ...                NaN           NaN           NaN   \n",
       "-0.206897      ...                NaN           NaN           NaN   \n",
       " 0.206897      ...       2.423927e-09           NaN           NaN   \n",
       " 0.620690      ...                NaN  3.280428e-10           NaN   \n",
       " 1.034483      ...                NaN           NaN  8.131368e-13   \n",
       " 1.448276      ...                NaN           NaN           NaN   \n",
       " 1.862069      ...                NaN           NaN           NaN   \n",
       " 2.275862      ...                NaN           NaN           NaN   \n",
       " 2.689655      ...                NaN           NaN           NaN   \n",
       " 3.103448      ...                NaN           NaN           NaN   \n",
       " 3.517241      ...                NaN           NaN           NaN   \n",
       " 3.931034      ...                NaN           NaN           NaN   \n",
       "\n",
       "y              1.448276      1.862069      2.275862      2.689655  \\\n",
       "x                                                                   \n",
       "-6.000000           NaN           NaN           NaN           NaN   \n",
       "-5.586207           NaN           NaN           NaN           NaN   \n",
       "-5.172414           NaN           NaN           NaN           NaN   \n",
       "-4.758621           NaN           NaN           NaN           NaN   \n",
       "-4.344828           NaN           NaN           NaN           NaN   \n",
       "-3.931034           NaN           NaN           NaN           NaN   \n",
       "-3.517241           NaN           NaN           NaN           NaN   \n",
       "-3.103448           NaN           NaN           NaN           NaN   \n",
       "-2.689655           NaN           NaN           NaN           NaN   \n",
       "-2.275862           NaN           NaN           NaN           NaN   \n",
       "-1.862069           NaN           NaN           NaN           NaN   \n",
       "-1.448276           NaN           NaN           NaN           NaN   \n",
       "-1.034483           NaN           NaN           NaN           NaN   \n",
       "-0.620690           NaN           NaN           NaN           NaN   \n",
       "-0.206897           NaN           NaN           NaN           NaN   \n",
       " 0.206897           NaN           NaN           NaN           NaN   \n",
       " 0.620690           NaN           NaN           NaN           NaN   \n",
       " 1.034483           NaN           NaN           NaN           NaN   \n",
       " 1.448276  3.691635e-17           NaN           NaN           NaN   \n",
       " 1.862069           NaN  3.069701e-23           NaN           NaN   \n",
       " 2.275862           NaN           NaN  2.015565e-15           NaN   \n",
       " 2.689655           NaN           NaN           NaN  2.727770e-16   \n",
       " 3.103448           NaN           NaN           NaN           NaN   \n",
       " 3.517241           NaN           NaN           NaN           NaN   \n",
       " 3.931034           NaN           NaN           NaN           NaN   \n",
       "\n",
       "y              3.103448      3.517241      3.931034  \n",
       "x                                                    \n",
       "-6.000000           NaN           NaN           NaN  \n",
       "-5.586207           NaN           NaN           NaN  \n",
       "-5.172414           NaN           NaN           NaN  \n",
       "-4.758621           NaN           NaN           NaN  \n",
       "-4.344828           NaN           NaN           NaN  \n",
       "-3.931034           NaN           NaN           NaN  \n",
       "-3.517241           NaN           NaN           NaN  \n",
       "-3.103448           NaN           NaN           NaN  \n",
       "-2.689655           NaN           NaN           NaN  \n",
       "-2.275862           NaN           NaN           NaN  \n",
       "-1.862069           NaN           NaN           NaN  \n",
       "-1.448276           NaN           NaN           NaN  \n",
       "-1.034483           NaN           NaN           NaN  \n",
       "-0.620690           NaN           NaN           NaN  \n",
       "-0.206897           NaN           NaN           NaN  \n",
       " 0.206897           NaN           NaN           NaN  \n",
       " 0.620690           NaN           NaN           NaN  \n",
       " 1.034483           NaN           NaN           NaN  \n",
       " 1.448276           NaN           NaN           NaN  \n",
       " 1.862069           NaN           NaN           NaN  \n",
       " 2.275862           NaN           NaN           NaN  \n",
       " 2.689655           NaN           NaN           NaN  \n",
       " 3.103448  6.761466e-19           NaN           NaN  \n",
       " 3.517241           NaN  3.069701e-23           NaN  \n",
       " 3.931034           NaN           NaN  2.552544e-29  \n",
       "\n",
       "[25 rows x 25 columns]"
      ]
     },
     "execution_count": 138,
     "metadata": {},
     "output_type": "execute_result"
    }
   ],
   "source": [
    "pd.DataFrame(data=list(zip(x,y,z)), columns=['x','y','z']).pivot(index='x', columns='y', values='z')"
   ]
  },
  {
   "cell_type": "code",
   "execution_count": 141,
   "metadata": {},
   "outputs": [
    {
     "data": {
      "text/plain": [
       "array([[-3.   , -2.975, -2.95 , ...,  2.925,  2.95 ,  2.975],\n",
       "       [-3.   , -2.975, -2.95 , ...,  2.925,  2.95 ,  2.975],\n",
       "       [-3.   , -2.975, -2.95 , ...,  2.925,  2.95 ,  2.975],\n",
       "       ...,\n",
       "       [-3.   , -2.975, -2.95 , ...,  2.925,  2.95 ,  2.975],\n",
       "       [-3.   , -2.975, -2.95 , ...,  2.925,  2.95 ,  2.975],\n",
       "       [-3.   , -2.975, -2.95 , ...,  2.925,  2.95 ,  2.975]])"
      ]
     },
     "execution_count": 141,
     "metadata": {},
     "output_type": "execute_result"
    }
   ],
   "source": [
    "X"
   ]
  },
  {
   "cell_type": "code",
   "execution_count": 148,
   "metadata": {},
   "outputs": [
    {
     "data": {
      "text/plain": [
       "array([[2.26032941e-06, 2.62448729e-06, 3.04350727e-06, ...,\n",
       "        3.52501805e-06, 3.04350727e-06, 2.62448729e-06],\n",
       "       [2.49648953e-06, 2.89869477e-06, 3.36149413e-06, ...,\n",
       "        3.89331336e-06, 3.36149413e-06, 2.89869477e-06],\n",
       "       [2.75387926e-06, 3.19755213e-06, 3.70806641e-06, ...,\n",
       "        4.29471655e-06, 3.70806641e-06, 3.19755213e-06],\n",
       "       ...,\n",
       "       [3.03401116e-06, 3.52281561e-06, 4.08526075e-06, ...,\n",
       "        4.73158650e-06, 4.08526075e-06, 3.52281561e-06],\n",
       "       [2.75387926e-06, 3.19755213e-06, 3.70806641e-06, ...,\n",
       "        4.29471655e-06, 3.70806641e-06, 3.19755213e-06],\n",
       "       [2.49648953e-06, 2.89869477e-06, 3.36149413e-06, ...,\n",
       "        3.89331336e-06, 3.36149413e-06, 2.89869477e-06]])"
      ]
     },
     "execution_count": 148,
     "metadata": {},
     "output_type": "execute_result"
    }
   ],
   "source": [
    "Z1"
   ]
  },
  {
   "cell_type": "code",
   "execution_count": 168,
   "metadata": {},
   "outputs": [
    {
     "data": {
      "text/plain": [
       "<matplotlib.collections.PathCollection at 0x7f38d707fef0>"
      ]
     },
     "execution_count": 168,
     "metadata": {},
     "output_type": "execute_result"
    },
    {
     "data": {
      "image/png": "[encoded data removed]",
      "text/plain": [
       "<Figure size 432x288 with 1 Axes>"
      ]
     },
     "metadata": {
      "needs_background": "light"
     },
     "output_type": "display_data"
    }
   ],
   "source": [
    "plt.scatter(x,y,z)"
   ]
  },
  {
   "cell_type": "code",
   "execution_count": 169,
   "metadata": {},
   "outputs": [
    {
     "data": {
      "text/plain": [
       "25"
      ]
     },
     "execution_count": 169,
     "metadata": {},
     "output_type": "execute_result"
    }
   ],
   "source": [
    "x.size"
   ]
  },
  {
   "cell_type": "code",
   "execution_count": 170,
   "metadata": {},
   "outputs": [
    {
     "data": {
      "text/plain": [
       "25"
      ]
     },
     "execution_count": 170,
     "metadata": {},
     "output_type": "execute_result"
    }
   ],
   "source": [
    "y.size"
   ]
  },
  {
   "cell_type": "code",
   "execution_count": 171,
   "metadata": {},
   "outputs": [
    {
     "data": {
      "text/plain": [
       "25"
      ]
     },
     "execution_count": 171,
     "metadata": {},
     "output_type": "execute_result"
    }
   ],
   "source": [
    "z.size"
   ]
  },
  {
   "cell_type": "code",
   "execution_count": 189,
   "metadata": {},
   "outputs": [],
   "source": [
    "x = np.arange(1,10,1)\n",
    "y = np.arange(1,20,4)"
   ]
  },
  {
   "cell_type": "code",
   "execution_count": 192,
   "metadata": {},
   "outputs": [
    {
     "data": {
      "text/plain": [
       "9"
      ]
     },
     "execution_count": 192,
     "metadata": {},
     "output_type": "execute_result"
    }
   ],
   "source": [
    "x.size"
   ]
  },
  {
   "cell_type": "code",
   "execution_count": 193,
   "metadata": {},
   "outputs": [
    {
     "data": {
      "text/plain": [
       "5"
      ]
     },
     "execution_count": 193,
     "metadata": {},
     "output_type": "execute_result"
    }
   ],
   "source": [
    "y.size"
   ]
  },
  {
   "cell_type": "code",
   "execution_count": 194,
   "metadata": {},
   "outputs": [],
   "source": [
    "X, Y = np.meshgrid(x,y)"
   ]
  },
  {
   "cell_type": "code",
   "execution_count": 199,
   "metadata": {},
   "outputs": [
    {
     "data": {
      "text/plain": [
       "(5, 9)"
      ]
     },
     "execution_count": 199,
     "metadata": {},
     "output_type": "execute_result"
    }
   ],
   "source": [
    "X.shape"
   ]
  },
  {
   "cell_type": "code",
   "execution_count": 198,
   "metadata": {},
   "outputs": [
    {
     "data": {
      "text/plain": [
       "(5, 9)"
      ]
     },
     "execution_count": 198,
     "metadata": {},
     "output_type": "execute_result"
    }
   ],
   "source": [
    "Y.shape"
   ]
  },
  {
   "cell_type": "code",
   "execution_count": 200,
   "metadata": {},
   "outputs": [
    {
     "data": {
      "text/plain": [
       "array([1, 2, 3, 4, 5, 6, 7, 8, 9])"
      ]
     },
     "execution_count": 200,
     "metadata": {},
     "output_type": "execute_result"
    }
   ],
   "source": [
    "x"
   ]
  },
  {
   "cell_type": "code",
   "execution_count": 201,
   "metadata": {},
   "outputs": [
    {
     "data": {
      "text/plain": [
       "array([[1, 2, 3, 4, 5, 6, 7, 8, 9],\n",
       "       [1, 2, 3, 4, 5, 6, 7, 8, 9],\n",
       "       [1, 2, 3, 4, 5, 6, 7, 8, 9],\n",
       "       [1, 2, 3, 4, 5, 6, 7, 8, 9],\n",
       "       [1, 2, 3, 4, 5, 6, 7, 8, 9]])"
      ]
     },
     "execution_count": 201,
     "metadata": {},
     "output_type": "execute_result"
    }
   ],
   "source": [
    "X"
   ]
  },
  {
   "cell_type": "code",
   "execution_count": 202,
   "metadata": {},
   "outputs": [
    {
     "data": {
      "text/plain": [
       "array([ 1,  5,  9, 13, 17])"
      ]
     },
     "execution_count": 202,
     "metadata": {},
     "output_type": "execute_result"
    }
   ],
   "source": [
    "y"
   ]
  },
  {
   "cell_type": "code",
   "execution_count": 203,
   "metadata": {},
   "outputs": [
    {
     "data": {
      "text/plain": [
       "array([[ 1,  1,  1,  1,  1,  1,  1,  1,  1],\n",
       "       [ 5,  5,  5,  5,  5,  5,  5,  5,  5],\n",
       "       [ 9,  9,  9,  9,  9,  9,  9,  9,  9],\n",
       "       [13, 13, 13, 13, 13, 13, 13, 13, 13],\n",
       "       [17, 17, 17, 17, 17, 17, 17, 17, 17]])"
      ]
     },
     "execution_count": 203,
     "metadata": {},
     "output_type": "execute_result"
    }
   ],
   "source": [
    "Y"
   ]
  },
  {
   "cell_type": "markdown",
   "metadata": {},
   "source": [
    "[X,Y] = meshgrid(x,y) returns 2-D grid coordinates based on the coordinates contained in vectors x and y. X is a matrix where each row is a copy of x, and Y is a matrix where each column is a copy of y. The grid represented by the coordinates X and Y has length(y) rows and length(x) columns."
   ]
  },
  {
   "cell_type": "markdown",
   "metadata": {},
   "source": [
    "## meshgrid"
   ]
  },
  {
   "cell_type": "code",
   "execution_count": 384,
   "metadata": {},
   "outputs": [],
   "source": [
    "x = np.linspace(-2,2,1000)\n",
    "y = np.linspace(-2, 2, 100)"
   ]
  },
  {
   "cell_type": "code",
   "execution_count": 385,
   "metadata": {},
   "outputs": [
    {
     "name": "stdout",
     "output_type": "stream",
     "text": [
      "[-2.         -1.995996   -1.99199199 -1.98798799 -1.98398398 -1.97997998\n",
      " -1.97597598 -1.97197197 -1.96796797 -1.96396396 -1.95995996 -1.95595596\n",
      " -1.95195195 -1.94794795 -1.94394394 -1.93993994 -1.93593594 -1.93193193\n",
      " -1.92792793 -1.92392392 -1.91991992 -1.91591592 -1.91191191 -1.90790791\n",
      " -1.9039039  -1.8998999  -1.8958959  -1.89189189 -1.88788789 -1.88388388\n",
      " -1.87987988 -1.87587588 -1.87187187 -1.86786787 -1.86386386 -1.85985986\n",
      " -1.85585586 -1.85185185 -1.84784785 -1.84384384 -1.83983984 -1.83583584\n",
      " -1.83183183 -1.82782783 -1.82382382 -1.81981982 -1.81581582 -1.81181181\n",
      " -1.80780781 -1.8038038  -1.7997998  -1.7957958  -1.79179179 -1.78778779\n",
      " -1.78378378 -1.77977978 -1.77577578 -1.77177177 -1.76776777 -1.76376376\n",
      " -1.75975976 -1.75575576 -1.75175175 -1.74774775 -1.74374374 -1.73973974\n",
      " -1.73573574 -1.73173173 -1.72772773 -1.72372372 -1.71971972 -1.71571572\n",
      " -1.71171171 -1.70770771 -1.7037037  -1.6996997  -1.6956957  -1.69169169\n",
      " -1.68768769 -1.68368368 -1.67967968 -1.67567568 -1.67167167 -1.66766767\n",
      " -1.66366366 -1.65965966 -1.65565566 -1.65165165 -1.64764765 -1.64364364\n",
      " -1.63963964 -1.63563564 -1.63163163 -1.62762763 -1.62362362 -1.61961962\n",
      " -1.61561562 -1.61161161 -1.60760761 -1.6036036  -1.5995996  -1.5955956\n",
      " -1.59159159 -1.58758759 -1.58358358 -1.57957958 -1.57557558 -1.57157157\n",
      " -1.56756757 -1.56356356 -1.55955956 -1.55555556 -1.55155155 -1.54754755\n",
      " -1.54354354 -1.53953954 -1.53553554 -1.53153153 -1.52752753 -1.52352352\n",
      " -1.51951952 -1.51551552 -1.51151151 -1.50750751 -1.5035035  -1.4994995\n",
      " -1.4954955  -1.49149149 -1.48748749 -1.48348348 -1.47947948 -1.47547548\n",
      " -1.47147147 -1.46746747 -1.46346346 -1.45945946 -1.45545546 -1.45145145\n",
      " -1.44744745 -1.44344344 -1.43943944 -1.43543544 -1.43143143 -1.42742743\n",
      " -1.42342342 -1.41941942 -1.41541542 -1.41141141 -1.40740741 -1.4034034\n",
      " -1.3993994  -1.3953954  -1.39139139 -1.38738739 -1.38338338 -1.37937938\n",
      " -1.37537538 -1.37137137 -1.36736737 -1.36336336 -1.35935936 -1.35535536\n",
      " -1.35135135 -1.34734735 -1.34334334 -1.33933934 -1.33533534 -1.33133133\n",
      " -1.32732733 -1.32332332 -1.31931932 -1.31531532 -1.31131131 -1.30730731\n",
      " -1.3033033  -1.2992993  -1.2952953  -1.29129129 -1.28728729 -1.28328328\n",
      " -1.27927928 -1.27527528 -1.27127127 -1.26726727 -1.26326326 -1.25925926\n",
      " -1.25525526 -1.25125125 -1.24724725 -1.24324324 -1.23923924 -1.23523524\n",
      " -1.23123123 -1.22722723 -1.22322322 -1.21921922 -1.21521522 -1.21121121\n",
      " -1.20720721 -1.2032032  -1.1991992  -1.1951952  -1.19119119 -1.18718719\n",
      " -1.18318318 -1.17917918 -1.17517518 -1.17117117 -1.16716717 -1.16316316\n",
      " -1.15915916 -1.15515516 -1.15115115 -1.14714715 -1.14314314 -1.13913914\n",
      " -1.13513514 -1.13113113 -1.12712713 -1.12312312 -1.11911912 -1.11511512\n",
      " -1.11111111 -1.10710711 -1.1031031  -1.0990991  -1.0950951  -1.09109109\n",
      " -1.08708709 -1.08308308 -1.07907908 -1.07507508 -1.07107107 -1.06706707\n",
      " -1.06306306 -1.05905906 -1.05505506 -1.05105105 -1.04704705 -1.04304304\n",
      " -1.03903904 -1.03503504 -1.03103103 -1.02702703 -1.02302302 -1.01901902\n",
      " -1.01501502 -1.01101101 -1.00700701 -1.003003   -0.998999   -0.99499499\n",
      " -0.99099099 -0.98698699 -0.98298298 -0.97897898 -0.97497497 -0.97097097\n",
      " -0.96696697 -0.96296296 -0.95895896 -0.95495495 -0.95095095 -0.94694695\n",
      " -0.94294294 -0.93893894 -0.93493493 -0.93093093 -0.92692693 -0.92292292\n",
      " -0.91891892 -0.91491491 -0.91091091 -0.90690691 -0.9029029  -0.8988989\n",
      " -0.89489489 -0.89089089 -0.88688689 -0.88288288 -0.87887888 -0.87487487\n",
      " -0.87087087 -0.86686687 -0.86286286 -0.85885886 -0.85485485 -0.85085085\n",
      " -0.84684685 -0.84284284 -0.83883884 -0.83483483 -0.83083083 -0.82682683\n",
      " -0.82282282 -0.81881882 -0.81481481 -0.81081081 -0.80680681 -0.8028028\n",
      " -0.7987988  -0.79479479 -0.79079079 -0.78678679 -0.78278278 -0.77877878\n",
      " -0.77477477 -0.77077077 -0.76676677 -0.76276276 -0.75875876 -0.75475475\n",
      " -0.75075075 -0.74674675 -0.74274274 -0.73873874 -0.73473473 -0.73073073\n",
      " -0.72672673 -0.72272272 -0.71871872 -0.71471471 -0.71071071 -0.70670671\n",
      " -0.7027027  -0.6986987  -0.69469469 -0.69069069 -0.68668669 -0.68268268\n",
      " -0.67867868 -0.67467467 -0.67067067 -0.66666667 -0.66266266 -0.65865866\n",
      " -0.65465465 -0.65065065 -0.64664665 -0.64264264 -0.63863864 -0.63463463\n",
      " -0.63063063 -0.62662663 -0.62262262 -0.61861862 -0.61461461 -0.61061061\n",
      " -0.60660661 -0.6026026  -0.5985986  -0.59459459 -0.59059059 -0.58658659\n",
      " -0.58258258 -0.57857858 -0.57457457 -0.57057057 -0.56656657 -0.56256256\n",
      " -0.55855856 -0.55455455 -0.55055055 -0.54654655 -0.54254254 -0.53853854\n",
      " -0.53453453 -0.53053053 -0.52652653 -0.52252252 -0.51851852 -0.51451451\n",
      " -0.51051051 -0.50650651 -0.5025025  -0.4984985  -0.49449449 -0.49049049\n",
      " -0.48648649 -0.48248248 -0.47847848 -0.47447447 -0.47047047 -0.46646647\n",
      " -0.46246246 -0.45845846 -0.45445445 -0.45045045 -0.44644645 -0.44244244\n",
      " -0.43843844 -0.43443443 -0.43043043 -0.42642643 -0.42242242 -0.41841842\n",
      " -0.41441441 -0.41041041 -0.40640641 -0.4024024  -0.3983984  -0.39439439\n",
      " -0.39039039 -0.38638639 -0.38238238 -0.37837838 -0.37437437 -0.37037037\n",
      " -0.36636637 -0.36236236 -0.35835836 -0.35435435 -0.35035035 -0.34634635\n",
      " -0.34234234 -0.33833834 -0.33433433 -0.33033033 -0.32632633 -0.32232232\n",
      " -0.31831832 -0.31431431 -0.31031031 -0.30630631 -0.3023023  -0.2982983\n",
      " -0.29429429 -0.29029029 -0.28628629 -0.28228228 -0.27827828 -0.27427427\n",
      " -0.27027027 -0.26626627 -0.26226226 -0.25825826 -0.25425425 -0.25025025\n",
      " -0.24624625 -0.24224224 -0.23823824 -0.23423423 -0.23023023 -0.22622623\n",
      " -0.22222222 -0.21821822 -0.21421421 -0.21021021 -0.20620621 -0.2022022\n",
      " -0.1981982  -0.19419419 -0.19019019 -0.18618619 -0.18218218 -0.17817818\n",
      " -0.17417417 -0.17017017 -0.16616617 -0.16216216 -0.15815816 -0.15415415\n",
      " -0.15015015 -0.14614615 -0.14214214 -0.13813814 -0.13413413 -0.13013013\n",
      " -0.12612613 -0.12212212 -0.11811812 -0.11411411 -0.11011011 -0.10610611\n",
      " -0.1021021  -0.0980981  -0.09409409 -0.09009009 -0.08608609 -0.08208208\n",
      " -0.07807808 -0.07407407 -0.07007007 -0.06606607 -0.06206206 -0.05805806\n",
      " -0.05405405 -0.05005005 -0.04604605 -0.04204204 -0.03803804 -0.03403403\n",
      " -0.03003003 -0.02602603 -0.02202202 -0.01801802 -0.01401401 -0.01001001\n",
      " -0.00600601 -0.002002    0.002002    0.00600601  0.01001001  0.01401401\n",
      "  0.01801802  0.02202202  0.02602603  0.03003003  0.03403403  0.03803804\n",
      "  0.04204204  0.04604605  0.05005005  0.05405405  0.05805806  0.06206206\n",
      "  0.06606607  0.07007007  0.07407407  0.07807808  0.08208208  0.08608609\n",
      "  0.09009009  0.09409409  0.0980981   0.1021021   0.10610611  0.11011011\n",
      "  0.11411411  0.11811812  0.12212212  0.12612613  0.13013013  0.13413413\n",
      "  0.13813814  0.14214214  0.14614615  0.15015015  0.15415415  0.15815816\n",
      "  0.16216216  0.16616617  0.17017017  0.17417417  0.17817818  0.18218218\n",
      "  0.18618619  0.19019019  0.19419419  0.1981982   0.2022022   0.20620621\n",
      "  0.21021021  0.21421421  0.21821822  0.22222222  0.22622623  0.23023023\n",
      "  0.23423423  0.23823824  0.24224224  0.24624625  0.25025025  0.25425425\n",
      "  0.25825826  0.26226226  0.26626627  0.27027027  0.27427427  0.27827828\n",
      "  0.28228228  0.28628629  0.29029029  0.29429429  0.2982983   0.3023023\n",
      "  0.30630631  0.31031031  0.31431431  0.31831832  0.32232232  0.32632633\n",
      "  0.33033033  0.33433433  0.33833834  0.34234234  0.34634635  0.35035035\n",
      "  0.35435435  0.35835836  0.36236236  0.36636637  0.37037037  0.37437437\n",
      "  0.37837838  0.38238238  0.38638639  0.39039039  0.39439439  0.3983984\n",
      "  0.4024024   0.40640641  0.41041041  0.41441441  0.41841842  0.42242242\n",
      "  0.42642643  0.43043043  0.43443443  0.43843844  0.44244244  0.44644645\n",
      "  0.45045045  0.45445445  0.45845846  0.46246246  0.46646647  0.47047047\n",
      "  0.47447447  0.47847848  0.48248248  0.48648649  0.49049049  0.49449449\n",
      "  0.4984985   0.5025025   0.50650651  0.51051051  0.51451451  0.51851852\n",
      "  0.52252252  0.52652653  0.53053053  0.53453453  0.53853854  0.54254254\n",
      "  0.54654655  0.55055055  0.55455455  0.55855856  0.56256256  0.56656657\n",
      "  0.57057057  0.57457457  0.57857858  0.58258258  0.58658659  0.59059059\n",
      "  0.59459459  0.5985986   0.6026026   0.60660661  0.61061061  0.61461461\n",
      "  0.61861862  0.62262262  0.62662663  0.63063063  0.63463463  0.63863864\n",
      "  0.64264264  0.64664665  0.65065065  0.65465465  0.65865866  0.66266266\n",
      "  0.66666667  0.67067067  0.67467467  0.67867868  0.68268268  0.68668669\n",
      "  0.69069069  0.69469469  0.6986987   0.7027027   0.70670671  0.71071071\n",
      "  0.71471471  0.71871872  0.72272272  0.72672673  0.73073073  0.73473473\n",
      "  0.73873874  0.74274274  0.74674675  0.75075075  0.75475475  0.75875876\n",
      "  0.76276276  0.76676677  0.77077077  0.77477477  0.77877878  0.78278278\n",
      "  0.78678679  0.79079079  0.79479479  0.7987988   0.8028028   0.80680681\n",
      "  0.81081081  0.81481481  0.81881882  0.82282282  0.82682683  0.83083083\n",
      "  0.83483483  0.83883884  0.84284284  0.84684685  0.85085085  0.85485485\n",
      "  0.85885886  0.86286286  0.86686687  0.87087087  0.87487487  0.87887888\n",
      "  0.88288288  0.88688689  0.89089089  0.89489489  0.8988989   0.9029029\n",
      "  0.90690691  0.91091091  0.91491491  0.91891892  0.92292292  0.92692693\n",
      "  0.93093093  0.93493493  0.93893894  0.94294294  0.94694695  0.95095095\n",
      "  0.95495495  0.95895896  0.96296296  0.96696697  0.97097097  0.97497497\n",
      "  0.97897898  0.98298298  0.98698699  0.99099099  0.99499499  0.998999\n",
      "  1.003003    1.00700701  1.01101101  1.01501502  1.01901902  1.02302302\n",
      "  1.02702703  1.03103103  1.03503504  1.03903904  1.04304304  1.04704705\n",
      "  1.05105105  1.05505506  1.05905906  1.06306306  1.06706707  1.07107107\n",
      "  1.07507508  1.07907908  1.08308308  1.08708709  1.09109109  1.0950951\n",
      "  1.0990991   1.1031031   1.10710711  1.11111111  1.11511512  1.11911912\n",
      "  1.12312312  1.12712713  1.13113113  1.13513514  1.13913914  1.14314314\n",
      "  1.14714715  1.15115115  1.15515516  1.15915916  1.16316316  1.16716717\n",
      "  1.17117117  1.17517518  1.17917918  1.18318318  1.18718719  1.19119119\n",
      "  1.1951952   1.1991992   1.2032032   1.20720721  1.21121121  1.21521522\n",
      "  1.21921922  1.22322322  1.22722723  1.23123123  1.23523524  1.23923924\n",
      "  1.24324324  1.24724725  1.25125125  1.25525526  1.25925926  1.26326326\n",
      "  1.26726727  1.27127127  1.27527528  1.27927928  1.28328328  1.28728729\n",
      "  1.29129129  1.2952953   1.2992993   1.3033033   1.30730731  1.31131131\n",
      "  1.31531532  1.31931932  1.32332332  1.32732733  1.33133133  1.33533534\n",
      "  1.33933934  1.34334334  1.34734735  1.35135135  1.35535536  1.35935936\n",
      "  1.36336336  1.36736737  1.37137137  1.37537538  1.37937938  1.38338338\n",
      "  1.38738739  1.39139139  1.3953954   1.3993994   1.4034034   1.40740741\n",
      "  1.41141141  1.41541542  1.41941942  1.42342342  1.42742743  1.43143143\n",
      "  1.43543544  1.43943944  1.44344344  1.44744745  1.45145145  1.45545546\n",
      "  1.45945946  1.46346346  1.46746747  1.47147147  1.47547548  1.47947948\n",
      "  1.48348348  1.48748749  1.49149149  1.4954955   1.4994995   1.5035035\n",
      "  1.50750751  1.51151151  1.51551552  1.51951952  1.52352352  1.52752753\n",
      "  1.53153153  1.53553554  1.53953954  1.54354354  1.54754755  1.55155155\n",
      "  1.55555556  1.55955956  1.56356356  1.56756757  1.57157157  1.57557558\n",
      "  1.57957958  1.58358358  1.58758759  1.59159159  1.5955956   1.5995996\n",
      "  1.6036036   1.60760761  1.61161161  1.61561562  1.61961962  1.62362362\n",
      "  1.62762763  1.63163163  1.63563564  1.63963964  1.64364364  1.64764765\n",
      "  1.65165165  1.65565566  1.65965966  1.66366366  1.66766767  1.67167167\n",
      "  1.67567568  1.67967968  1.68368368  1.68768769  1.69169169  1.6956957\n",
      "  1.6996997   1.7037037   1.70770771  1.71171171  1.71571572  1.71971972\n",
      "  1.72372372  1.72772773  1.73173173  1.73573574  1.73973974  1.74374374\n",
      "  1.74774775  1.75175175  1.75575576  1.75975976  1.76376376  1.76776777\n",
      "  1.77177177  1.77577578  1.77977978  1.78378378  1.78778779  1.79179179\n",
      "  1.7957958   1.7997998   1.8038038   1.80780781  1.81181181  1.81581582\n",
      "  1.81981982  1.82382382  1.82782783  1.83183183  1.83583584  1.83983984\n",
      "  1.84384384  1.84784785  1.85185185  1.85585586  1.85985986  1.86386386\n",
      "  1.86786787  1.87187187  1.87587588  1.87987988  1.88388388  1.88788789\n",
      "  1.89189189  1.8958959   1.8998999   1.9039039   1.90790791  1.91191191\n",
      "  1.91591592  1.91991992  1.92392392  1.92792793  1.93193193  1.93593594\n",
      "  1.93993994  1.94394394  1.94794795  1.95195195  1.95595596  1.95995996\n",
      "  1.96396396  1.96796797  1.97197197  1.97597598  1.97997998  1.98398398\n",
      "  1.98798799  1.99199199  1.995996    2.        ]\n",
      "[-2.         -1.95959596 -1.91919192 -1.87878788 -1.83838384 -1.7979798\n",
      " -1.75757576 -1.71717172 -1.67676768 -1.63636364 -1.5959596  -1.55555556\n",
      " -1.51515152 -1.47474747 -1.43434343 -1.39393939 -1.35353535 -1.31313131\n",
      " -1.27272727 -1.23232323 -1.19191919 -1.15151515 -1.11111111 -1.07070707\n",
      " -1.03030303 -0.98989899 -0.94949495 -0.90909091 -0.86868687 -0.82828283\n",
      " -0.78787879 -0.74747475 -0.70707071 -0.66666667 -0.62626263 -0.58585859\n",
      " -0.54545455 -0.50505051 -0.46464646 -0.42424242 -0.38383838 -0.34343434\n",
      " -0.3030303  -0.26262626 -0.22222222 -0.18181818 -0.14141414 -0.1010101\n",
      " -0.06060606 -0.02020202  0.02020202  0.06060606  0.1010101   0.14141414\n",
      "  0.18181818  0.22222222  0.26262626  0.3030303   0.34343434  0.38383838\n",
      "  0.42424242  0.46464646  0.50505051  0.54545455  0.58585859  0.62626263\n",
      "  0.66666667  0.70707071  0.74747475  0.78787879  0.82828283  0.86868687\n",
      "  0.90909091  0.94949495  0.98989899  1.03030303  1.07070707  1.11111111\n",
      "  1.15151515  1.19191919  1.23232323  1.27272727  1.31313131  1.35353535\n",
      "  1.39393939  1.43434343  1.47474747  1.51515152  1.55555556  1.5959596\n",
      "  1.63636364  1.67676768  1.71717172  1.75757576  1.7979798   1.83838384\n",
      "  1.87878788  1.91919192  1.95959596  2.        ]\n"
     ]
    }
   ],
   "source": [
    "print(x)\n",
    "print(y)"
   ]
  },
  {
   "cell_type": "code",
   "execution_count": 386,
   "metadata": {},
   "outputs": [],
   "source": [
    "# create a grid of coordinates like\n",
    "# (x1,y1), ... (xn, y1), ...(xn, yn)"
   ]
  },
  {
   "cell_type": "code",
   "execution_count": 387,
   "metadata": {},
   "outputs": [],
   "source": [
    "# some plot functions need a matrix X, Y and Z instead of a list of tuples"
   ]
  },
  {
   "cell_type": "code",
   "execution_count": 388,
   "metadata": {},
   "outputs": [],
   "source": [
    "X, Y = np.meshgrid(x,y)"
   ]
  },
  {
   "cell_type": "code",
   "execution_count": 389,
   "metadata": {},
   "outputs": [
    {
     "name": "stdout",
     "output_type": "stream",
     "text": [
      "(100, 1000)\n"
     ]
    },
    {
     "data": {
      "text/plain": [
       "array([[-2.        , -1.995996  , -1.99199199, ...,  1.99199199,\n",
       "         1.995996  ,  2.        ],\n",
       "       [-2.        , -1.995996  , -1.99199199, ...,  1.99199199,\n",
       "         1.995996  ,  2.        ],\n",
       "       [-2.        , -1.995996  , -1.99199199, ...,  1.99199199,\n",
       "         1.995996  ,  2.        ],\n",
       "       ...,\n",
       "       [-2.        , -1.995996  , -1.99199199, ...,  1.99199199,\n",
       "         1.995996  ,  2.        ],\n",
       "       [-2.        , -1.995996  , -1.99199199, ...,  1.99199199,\n",
       "         1.995996  ,  2.        ],\n",
       "       [-2.        , -1.995996  , -1.99199199, ...,  1.99199199,\n",
       "         1.995996  ,  2.        ]])"
      ]
     },
     "execution_count": 389,
     "metadata": {},
     "output_type": "execute_result"
    }
   ],
   "source": [
    "print(X.shape)\n",
    "X\n",
    "# (y.size rows containt replication of the data)"
   ]
  },
  {
   "cell_type": "code",
   "execution_count": 390,
   "metadata": {},
   "outputs": [
    {
     "data": {
      "text/plain": [
       "array([[-2.        , -2.        , -2.        , ..., -2.        ,\n",
       "        -2.        , -2.        ],\n",
       "       [-1.95959596, -1.95959596, -1.95959596, ..., -1.95959596,\n",
       "        -1.95959596, -1.95959596],\n",
       "       [-1.91919192, -1.91919192, -1.91919192, ..., -1.91919192,\n",
       "        -1.91919192, -1.91919192],\n",
       "       ...,\n",
       "       [ 1.91919192,  1.91919192,  1.91919192, ...,  1.91919192,\n",
       "         1.91919192,  1.91919192],\n",
       "       [ 1.95959596,  1.95959596,  1.95959596, ...,  1.95959596,\n",
       "         1.95959596,  1.95959596],\n",
       "       [ 2.        ,  2.        ,  2.        , ...,  2.        ,\n",
       "         2.        ,  2.        ]])"
      ]
     },
     "execution_count": 390,
     "metadata": {},
     "output_type": "execute_result"
    }
   ],
   "source": [
    "Y"
   ]
  },
  {
   "cell_type": "code",
   "execution_count": 391,
   "metadata": {},
   "outputs": [
    {
     "data": {
      "text/plain": [
       "(100, 1000)"
      ]
     },
     "execution_count": 391,
     "metadata": {},
     "output_type": "execute_result"
    }
   ],
   "source": [
    "X.shape"
   ]
  },
  {
   "cell_type": "code",
   "execution_count": 392,
   "metadata": {},
   "outputs": [
    {
     "data": {
      "text/plain": [
       "(100, 1000)"
      ]
     },
     "execution_count": 392,
     "metadata": {},
     "output_type": "execute_result"
    }
   ],
   "source": [
    "Y.shape"
   ]
  },
  {
   "cell_type": "code",
   "execution_count": 393,
   "metadata": {},
   "outputs": [],
   "source": [
    "XYpairs = np.stack([ X.reshape(-1), Y.reshape(-1) ], axis=1)"
   ]
  },
  {
   "cell_type": "code",
   "execution_count": 394,
   "metadata": {},
   "outputs": [
    {
     "data": {
      "text/plain": [
       "(100000, 2)"
      ]
     },
     "execution_count": 394,
     "metadata": {},
     "output_type": "execute_result"
    }
   ],
   "source": [
    "XYpairs.shape"
   ]
  },
  {
   "cell_type": "code",
   "execution_count": 395,
   "metadata": {},
   "outputs": [
    {
     "data": {
      "text/plain": [
       "array([[-2.        , -1.995996  , -1.99199199, ...,  1.99199199,\n",
       "         1.995996  ,  2.        ],\n",
       "       [-2.        , -1.995996  , -1.99199199, ...,  1.99199199,\n",
       "         1.995996  ,  2.        ],\n",
       "       [-2.        , -1.995996  , -1.99199199, ...,  1.99199199,\n",
       "         1.995996  ,  2.        ],\n",
       "       ...,\n",
       "       [-2.        , -1.995996  , -1.99199199, ...,  1.99199199,\n",
       "         1.995996  ,  2.        ],\n",
       "       [-2.        , -1.995996  , -1.99199199, ...,  1.99199199,\n",
       "         1.995996  ,  2.        ],\n",
       "       [-2.        , -1.995996  , -1.99199199, ...,  1.99199199,\n",
       "         1.995996  ,  2.        ]])"
      ]
     },
     "execution_count": 395,
     "metadata": {},
     "output_type": "execute_result"
    }
   ],
   "source": [
    "XYpairs[:,0].reshape(X.shape)"
   ]
  },
  {
   "cell_type": "code",
   "execution_count": 396,
   "metadata": {},
   "outputs": [],
   "source": [
    "z = bivariate_gauss_1.pdf(XYpairs).reshape(X.shape)"
   ]
  },
  {
   "cell_type": "code",
   "execution_count": 397,
   "metadata": {},
   "outputs": [
    {
     "data": {
      "text/plain": [
       "<matplotlib.collections.PolyCollection at 0x7f38b58cd5c0>"
      ]
     },
     "execution_count": 397,
     "metadata": {},
     "output_type": "execute_result"
    },
    {
     "data": {
      "image/png": "[encoded data removed]",
      "text/plain": [
       "<Figure size 432x288 with 1 Axes>"
      ]
     },
     "metadata": {
      "needs_background": "light"
     },
     "output_type": "display_data"
    }
   ],
   "source": [
    "plt.pcolor(X,Y,z)"
   ]
  },
  {
   "cell_type": "code",
   "execution_count": 398,
   "metadata": {},
   "outputs": [],
   "source": [
    "bivariate_gauss_2 = multivariate_normal(mean=mu, cov=sigma_2)"
   ]
  },
  {
   "cell_type": "code",
   "execution_count": 399,
   "metadata": {},
   "outputs": [],
   "source": [
    "z = bivariate_gauss_2.pdf(XYpairs).reshape(X.shape)"
   ]
  },
  {
   "cell_type": "code",
   "execution_count": 400,
   "metadata": {},
   "outputs": [
    {
     "data": {
      "text/plain": [
       "array([[-2.        , -1.995996  , -1.99199199, ...,  1.99199199,\n",
       "         1.995996  ,  2.        ],\n",
       "       [-2.        , -1.995996  , -1.99199199, ...,  1.99199199,\n",
       "         1.995996  ,  2.        ],\n",
       "       [-2.        , -1.995996  , -1.99199199, ...,  1.99199199,\n",
       "         1.995996  ,  2.        ],\n",
       "       ...,\n",
       "       [-2.        , -1.995996  , -1.99199199, ...,  1.99199199,\n",
       "         1.995996  ,  2.        ],\n",
       "       [-2.        , -1.995996  , -1.99199199, ...,  1.99199199,\n",
       "         1.995996  ,  2.        ],\n",
       "       [-2.        , -1.995996  , -1.99199199, ...,  1.99199199,\n",
       "         1.995996  ,  2.        ]])"
      ]
     },
     "execution_count": 400,
     "metadata": {},
     "output_type": "execute_result"
    }
   ],
   "source": [
    "X"
   ]
  },
  {
   "cell_type": "code",
   "execution_count": 401,
   "metadata": {},
   "outputs": [],
   "source": [
    "#bivariate_gauss_2.pdf(X,Y)"
   ]
  },
  {
   "cell_type": "code",
   "execution_count": 402,
   "metadata": {},
   "outputs": [
    {
     "data": {
      "text/plain": [
       "<matplotlib.collections.PolyCollection at 0x7f38adf15be0>"
      ]
     },
     "execution_count": 402,
     "metadata": {},
     "output_type": "execute_result"
    },
    {
     "data": {
      "image/png": "[encoded data removed]",
      "text/plain": [
       "<Figure size 432x288 with 1 Axes>"
      ]
     },
     "metadata": {
      "needs_background": "light"
     },
     "output_type": "display_data"
    }
   ],
   "source": [
    "plt.pcolor(X,Y,z)"
   ]
  },
  {
   "cell_type": "code",
   "execution_count": 323,
   "metadata": {},
   "outputs": [],
   "source": [
    "z_eigen = np.array(normal_dist(XYpairs, sigma_2, mu)).reshape(X.shape)"
   ]
  },
  {
   "cell_type": "code",
   "execution_count": null,
   "metadata": {},
   "outputs": [],
   "source": []
  },
  {
   "cell_type": "code",
   "execution_count": 320,
   "metadata": {},
   "outputs": [
    {
     "data": {
      "text/plain": [
       "(100, 1000)"
      ]
     },
     "execution_count": 320,
     "metadata": {},
     "output_type": "execute_result"
    }
   ],
   "source": [
    "z.shape"
   ]
  },
  {
   "cell_type": "code",
   "execution_count": 324,
   "metadata": {},
   "outputs": [
    {
     "data": {
      "text/plain": [
       "(100, 1000)"
      ]
     },
     "execution_count": 324,
     "metadata": {},
     "output_type": "execute_result"
    }
   ],
   "source": [
    "z_eigen.shape"
   ]
  },
  {
   "cell_type": "code",
   "execution_count": 314,
   "metadata": {},
   "outputs": [
    {
     "data": {
      "text/plain": [
       "(100000, 2)"
      ]
     },
     "execution_count": 314,
     "metadata": {},
     "output_type": "execute_result"
    }
   ],
   "source": [
    "XYpairs.shape"
   ]
  },
  {
   "cell_type": "code",
   "execution_count": 325,
   "metadata": {},
   "outputs": [
    {
     "data": {
      "text/plain": [
       "<matplotlib.collections.PolyCollection at 0x7f38c48dd4e0>"
      ]
     },
     "execution_count": 325,
     "metadata": {},
     "output_type": "execute_result"
    },
    {
     "data": {
      "image/png": "[encoded data removed]",
      "text/plain": [
       "<Figure size 432x288 with 1 Axes>"
      ]
     },
     "metadata": {
      "needs_background": "light"
     },
     "output_type": "display_data"
    }
   ],
   "source": [
    "plt.pcolor(X,Y,z_eigen)"
   ]
  },
  {
   "cell_type": "code",
   "execution_count": null,
   "metadata": {},
   "outputs": [],
   "source": []
  },
  {
   "cell_type": "code",
   "execution_count": 315,
   "metadata": {},
   "outputs": [],
   "source": [
    "def multi_normal(x, Sigma, Mu):\n",
    "    p = len(Mu)\n",
    "    N = 1.0 / math.sqrt(((2 * math.pi)**p * np.linalg.det(Sigma)))\n",
    "    exponent = - 0.5 * np.transpose(x - Mu) @ np.linalg.inv(Sigma) @ (x - Mu)\n",
    "    E = np.exp(exponent)\n",
    "    return N * E\n",
    "\n",
    "\n",
    "def normal_dist(x, Sigma, Mu):\n",
    "    if len(x.shape) == 1 and len(Mu) == 1:\n",
    "        return uni_normal(x, Sigma, Mu)\n",
    "    if len(x.shape) == 1:\n",
    "        return multi_normal(x, Sigma, Mu)\n",
    "    return [multi_normal(a, Sigma, Mu) for a in x]\n",
    "    vfunc = np.vectorize(lambda a: multi_normal(a, Sigma, Mu))\n",
    "    return vfunc(x)"
   ]
  },
  {
   "cell_type": "code",
   "execution_count": null,
   "metadata": {},
   "outputs": [],
   "source": [
    "multi_normal(XYpairs[0], Sigma_1, )"
   ]
  },
  {
   "cell_type": "code",
   "execution_count": 382,
   "metadata": {},
   "outputs": [
    {
     "data": {
      "text/plain": [
       "<matplotlib.contour.QuadContourSet at 0x7f38b591de10>"
      ]
     },
     "execution_count": 382,
     "metadata": {},
     "output_type": "execute_result"
    },
    {
     "data": {
      "image/png": "[encoded data removed]",
      "text/plain": [
       "<Figure size 432x288 with 1 Axes>"
      ]
     },
     "metadata": {
      "needs_background": "light"
     },
     "output_type": "display_data"
    }
   ],
   "source": [
    "X,Y = np.mgrid[-1:1:.01, -1:1:.01]\n",
    "XYpairs = np.stack([ X.reshape(-1), Y.reshape(-1) ], axis=1)\n",
    "#pos = np.empty(x.shape + (2,))\n",
    "#pos[:, :, 0] = x; pos[:, :, 1] = y\n",
    "rv = multivariate_normal([0.5, -0.2], [[2.0, 0.3], [0.3, 0.5]])\n",
    "z = rv.pdf(XYpairs).reshape(X.shape)\n",
    "plt.contourf(X, Y, z)"
   ]
  },
  {
   "cell_type": "code",
   "execution_count": 375,
   "metadata": {},
   "outputs": [
    {
     "data": {
      "text/plain": [
       "<matplotlib.contour.QuadContourSet at 0x7f38b59f3c18>"
      ]
     },
     "execution_count": 375,
     "metadata": {},
     "output_type": "execute_result"
    },
    {
     "data": {
      "image/png": "[encoded data removed]",
      "text/plain": [
       "<Figure size 432x288 with 1 Axes>"
      ]
     },
     "metadata": {
      "needs_background": "light"
     },
     "output_type": "display_data"
    }
   ],
   "source": [
    "x, y = np.mgrid[-1:1:.01, -1:1:.01]\n",
    "pos = np.empty(x.shape + (2,))\n",
    "pos[:, :, 0] = x; pos[:, :, 1] = y\n",
    "rv = multivariate_normal([0.5, -0.2], [[2.0, 0.3], [0.3, 0.5]])\n",
    "plt.contourf(x, y, rv.pdf(pos))"
   ]
  },
  {
   "cell_type": "code",
   "execution_count": 376,
   "metadata": {},
   "outputs": [
    {
     "data": {
      "text/plain": [
       "array([[[-1.  , -1.  , -1.  , ..., -1.  , -1.  , -1.  ],\n",
       "        [-0.99, -0.99, -0.99, ..., -0.99, -0.99, -0.99],\n",
       "        [-0.98, -0.98, -0.98, ..., -0.98, -0.98, -0.98],\n",
       "        ...,\n",
       "        [ 0.97,  0.97,  0.97, ...,  0.97,  0.97,  0.97],\n",
       "        [ 0.98,  0.98,  0.98, ...,  0.98,  0.98,  0.98],\n",
       "        [ 0.99,  0.99,  0.99, ...,  0.99,  0.99,  0.99]],\n",
       "\n",
       "       [[-1.  , -0.99, -0.98, ...,  0.97,  0.98,  0.99],\n",
       "        [-1.  , -0.99, -0.98, ...,  0.97,  0.98,  0.99],\n",
       "        [-1.  , -0.99, -0.98, ...,  0.97,  0.98,  0.99],\n",
       "        ...,\n",
       "        [-1.  , -0.99, -0.98, ...,  0.97,  0.98,  0.99],\n",
       "        [-1.  , -0.99, -0.98, ...,  0.97,  0.98,  0.99],\n",
       "        [-1.  , -0.99, -0.98, ...,  0.97,  0.98,  0.99]]])"
      ]
     },
     "execution_count": 376,
     "metadata": {},
     "output_type": "execute_result"
    }
   ],
   "source": [
    "xypairs"
   ]
  },
  {
   "cell_type": "code",
   "execution_count": 377,
   "metadata": {},
   "outputs": [
    {
     "data": {
      "text/plain": [
       "(100, 1000)"
      ]
     },
     "execution_count": 377,
     "metadata": {},
     "output_type": "execute_result"
    }
   ],
   "source": [
    "z.shape"
   ]
  },
  {
   "cell_type": "code",
   "execution_count": 378,
   "metadata": {},
   "outputs": [
    {
     "data": {
      "text/plain": [
       "(200, 200)"
      ]
     },
     "execution_count": 378,
     "metadata": {},
     "output_type": "execute_result"
    }
   ],
   "source": [
    "x.shape"
   ]
  },
  {
   "cell_type": "code",
   "execution_count": 379,
   "metadata": {},
   "outputs": [
    {
     "data": {
      "text/plain": [
       "(200, 200)"
      ]
     },
     "execution_count": 379,
     "metadata": {},
     "output_type": "execute_result"
    }
   ],
   "source": [
    "y.shape"
   ]
  },
  {
   "cell_type": "code",
   "execution_count": 380,
   "metadata": {},
   "outputs": [
    {
     "data": {
      "text/plain": [
       "(200, 200, 2)"
      ]
     },
     "execution_count": 380,
     "metadata": {},
     "output_type": "execute_result"
    }
   ],
   "source": [
    "pos.shape"
   ]
  },
  {
   "cell_type": "code",
   "execution_count": 336,
   "metadata": {},
   "outputs": [
    {
     "data": {
      "text/plain": [
       "array([[-1.  , -1.  , -1.  , ..., -1.  , -1.  , -1.  ],\n",
       "       [-0.99, -0.99, -0.99, ..., -0.99, -0.99, -0.99],\n",
       "       [-0.98, -0.98, -0.98, ..., -0.98, -0.98, -0.98],\n",
       "       ...,\n",
       "       [ 0.97,  0.97,  0.97, ...,  0.97,  0.97,  0.97],\n",
       "       [ 0.98,  0.98,  0.98, ...,  0.98,  0.98,  0.98],\n",
       "       [ 0.99,  0.99,  0.99, ...,  0.99,  0.99,  0.99]])"
      ]
     },
     "execution_count": 336,
     "metadata": {},
     "output_type": "execute_result"
    }
   ],
   "source": [
    "x"
   ]
  },
  {
   "cell_type": "code",
   "execution_count": 335,
   "metadata": {},
   "outputs": [
    {
     "data": {
      "text/plain": [
       "array([[[-1.  , -1.  ],\n",
       "        [-1.  , -0.99],\n",
       "        [-1.  , -0.98],\n",
       "        ...,\n",
       "        [-1.  ,  0.97],\n",
       "        [-1.  ,  0.98],\n",
       "        [-1.  ,  0.99]],\n",
       "\n",
       "       [[-0.99, -1.  ],\n",
       "        [-0.99, -0.99],\n",
       "        [-0.99, -0.98],\n",
       "        ...,\n",
       "        [-0.99,  0.97],\n",
       "        [-0.99,  0.98],\n",
       "        [-0.99,  0.99]],\n",
       "\n",
       "       [[-0.98, -1.  ],\n",
       "        [-0.98, -0.99],\n",
       "        [-0.98, -0.98],\n",
       "        ...,\n",
       "        [-0.98,  0.97],\n",
       "        [-0.98,  0.98],\n",
       "        [-0.98,  0.99]],\n",
       "\n",
       "       ...,\n",
       "\n",
       "       [[ 0.97, -1.  ],\n",
       "        [ 0.97, -0.99],\n",
       "        [ 0.97, -0.98],\n",
       "        ...,\n",
       "        [ 0.97,  0.97],\n",
       "        [ 0.97,  0.98],\n",
       "        [ 0.97,  0.99]],\n",
       "\n",
       "       [[ 0.98, -1.  ],\n",
       "        [ 0.98, -0.99],\n",
       "        [ 0.98, -0.98],\n",
       "        ...,\n",
       "        [ 0.98,  0.97],\n",
       "        [ 0.98,  0.98],\n",
       "        [ 0.98,  0.99]],\n",
       "\n",
       "       [[ 0.99, -1.  ],\n",
       "        [ 0.99, -0.99],\n",
       "        [ 0.99, -0.98],\n",
       "        ...,\n",
       "        [ 0.99,  0.97],\n",
       "        [ 0.99,  0.98],\n",
       "        [ 0.99,  0.99]]])"
      ]
     },
     "execution_count": 335,
     "metadata": {},
     "output_type": "execute_result"
    }
   ],
   "source": [
    "pos"
   ]
  },
  {
   "cell_type": "code",
   "execution_count": 408,
   "metadata": {},
   "outputs": [
    {
     "data": {
      "image/png": "[encoded data removed]",
      "text/plain": [
       "<Figure size 432x288 with 1 Axes>"
      ]
     },
     "metadata": {
      "needs_background": "light"
     },
     "output_type": "display_data"
    }
   ],
   "source": [
    "from mpl_toolkits.mplot3d import axes3d\n",
    "import matplotlib.pyplot as plt\n",
    "from matplotlib import cm\n",
    "\n",
    "fig = plt.figure()\n",
    "ax = fig.gca(projection='3d')\n",
    "#X, Y, Z = axes3d.get_test_data(0.05)\n",
    "X, Y, Z = X,Y,z\n",
    "ax.plot_surface(X, Y, Z, rstride=8, cstride=8, alpha=0.3)\n",
    "cset = ax.contour(X, Y, Z, zdir='z', cmap=cm.coolwarm)\n",
    "#cset = ax.contour(X, Y, Z, zdir='x', offset=-4, cmap=cm.coolwarm)\n",
    "#cset = ax.contour(X, Y, Z, zdir='y', offset=4, cmap=cm.coolwarm)\n",
    "\n",
    "ax.set_xlabel('X')\n",
    "#ax.set_xlim(-40, 40)\n",
    "ax.set_ylabel('Y')\n",
    "#ax.set_ylim(-40, 40)\n",
    "ax.set_zlabel('Z')\n",
    "#ax.set_zlim(-100, 100)\n",
    "\n",
    "plt.show()"
   ]
  },
  {
   "cell_type": "code",
   "execution_count": 348,
   "metadata": {},
   "outputs": [
    {
     "data": {
      "text/plain": [
       "array([[-0.00982064, -0.0113957 , -0.01319036, ..., -0.01522953,\n",
       "        -0.01319036, -0.0113957 ],\n",
       "       [-0.0113957 , -0.01322338, -0.01530587, ..., -0.01767209,\n",
       "        -0.01530587, -0.01322338],\n",
       "       [-0.01319036, -0.01530587, -0.01771632, ..., -0.02045518,\n",
       "        -0.01771632, -0.01530587],\n",
       "       ...,\n",
       "       [-0.01200234, -0.01414685, -0.01660867, ...,  0.02918791,\n",
       "         0.03019517,  0.03085725],\n",
       "       [-0.01097235, -0.01288301, -0.01507265, ...,  0.01583738,\n",
       "         0.01709512,  0.01804782],\n",
       "       [-0.00988645, -0.01157475, -0.01350698, ...,  0.00702321,\n",
       "         0.0083816 ,  0.00947216]])"
      ]
     },
     "execution_count": 348,
     "metadata": {},
     "output_type": "execute_result"
    }
   ],
   "source": []
  },
  {
   "cell_type": "markdown",
   "metadata": {},
   "source": [
    "## gen data"
   ]
  },
  {
   "cell_type": "code",
   "execution_count": 509,
   "metadata": {},
   "outputs": [],
   "source": [
    "x = np.arange(0,10,0.5)\n",
    "x_old = x[::2]\n",
    "x_new = x[1::2]\n",
    "y = np.sin(x_old)"
   ]
  },
  {
   "cell_type": "code",
   "execution_count": 510,
   "metadata": {},
   "outputs": [
    {
     "name": "stdout",
     "output_type": "stream",
     "text": [
      "[0. 1. 2. 3. 4. 5. 6. 7. 8. 9.]\n",
      "[0.5 1.5 2.5 3.5 4.5 5.5 6.5 7.5 8.5 9.5]\n"
     ]
    }
   ],
   "source": [
    "print(x_old)\n",
    "print(x_new)"
   ]
  },
  {
   "cell_type": "code",
   "execution_count": 511,
   "metadata": {},
   "outputs": [
    {
     "data": {
      "text/plain": [
       "Text(0, 0.5, 'f(x)')"
      ]
     },
     "execution_count": 511,
     "metadata": {},
     "output_type": "execute_result"
    },
    {
     "data": {
      "image/png": "[encoded data removed]",
      "text/plain": [
       "<Figure size 432x288 with 1 Axes>"
      ]
     },
     "metadata": {
      "needs_background": "light"
     },
     "output_type": "display_data"
    }
   ],
   "source": [
    "plt.plot(x_old,y,marker='o')\n",
    "plt.xlabel('x')\n",
    "plt.ylabel('f(x)')"
   ]
  },
  {
   "cell_type": "code",
   "execution_count": 420,
   "metadata": {},
   "outputs": [],
   "source": [
    "from sklearn.metrics.pairwise import rbf_kernel, polynomial_kernel, linear_kernel"
   ]
  },
  {
   "cell_type": "code",
   "execution_count": 482,
   "metadata": {},
   "outputs": [],
   "source": [
    "def rbf_ij(xi,xj,lmd=None):\n",
    "    #return np.linalg.norm(xi)\n",
    "    if not lmd:\n",
    "        try:\n",
    "            lmd = 1/len(xi)\n",
    "        except: lmd = 1\n",
    "    return np.exp(-lmd*np.linalg.norm(xi-xj)**2)"
   ]
  },
  {
   "cell_type": "code",
   "execution_count": 483,
   "metadata": {},
   "outputs": [
    {
     "data": {
      "text/plain": [
       "0.01831563888873418"
      ]
     },
     "execution_count": 483,
     "metadata": {},
     "output_type": "execute_result"
    }
   ],
   "source": [
    "rbf_ij(4,6)"
   ]
  },
  {
   "cell_type": "code",
   "execution_count": 484,
   "metadata": {},
   "outputs": [
    {
     "data": {
      "text/plain": [
       "0.1353352832366127"
      ]
     },
     "execution_count": 484,
     "metadata": {},
     "output_type": "execute_result"
    }
   ],
   "source": [
    "rbf_ij(np.array([1,4]),np.array([1,2]))"
   ]
  },
  {
   "cell_type": "code",
   "execution_count": 485,
   "metadata": {},
   "outputs": [],
   "source": [
    "def cov_mat(x1,x2):\n",
    "    rows = len(x1)\n",
    "    cols = len(x2)\n",
    "    cov = np.empty(shape=(rows,cols))\n",
    "    for index in itertools.product(range(rows),range(cols)):\n",
    "        cov[index] = rbf_ij(x1[index[0]],x2[index[1]])\n",
    "    return cov"
   ]
  },
  {
   "cell_type": "code",
   "execution_count": 486,
   "metadata": {},
   "outputs": [
    {
     "data": {
      "text/plain": [
       "array([[1.        ],\n",
       "       [0.36787944]])"
      ]
     },
     "execution_count": 486,
     "metadata": {},
     "output_type": "execute_result"
    }
   ],
   "source": [
    "cov_mat(np.array([[1,2],[2,3]]),np.array([[1,2]]))"
   ]
  },
  {
   "cell_type": "code",
   "execution_count": 488,
   "metadata": {},
   "outputs": [
    {
     "data": {
      "text/plain": [
       "array([[1.        ],\n",
       "       [0.36787944]])"
      ]
     },
     "execution_count": 488,
     "metadata": {},
     "output_type": "execute_result"
    }
   ],
   "source": [
    "rbf_kernel(np.array([[1,2],[2,3]]),np.array([[1,2]]))"
   ]
  },
  {
   "cell_type": "markdown",
   "metadata": {},
   "source": [
    "assumption:\n",
    "$\\vec{f} \\sim N(\\vec{\\mu}, \\bf{K} )$"
   ]
  },
  {
   "cell_type": "code",
   "execution_count": 502,
   "metadata": {},
   "outputs": [],
   "source": [
    "Sigma = cov_mat(x_old,x_old)"
   ]
  },
  {
   "cell_type": "code",
   "execution_count": 503,
   "metadata": {},
   "outputs": [
    {
     "data": {
      "text/plain": [
       "(10, 10)"
      ]
     },
     "execution_count": 503,
     "metadata": {},
     "output_type": "execute_result"
    }
   ],
   "source": [
    "Sigma.shape"
   ]
  },
  {
   "cell_type": "code",
   "execution_count": 504,
   "metadata": {},
   "outputs": [
    {
     "data": {
      "text/plain": [
       "array([[1.00000000e+00, 3.67879441e-01, 1.83156389e-02, 1.23409804e-04,\n",
       "        1.12535175e-07, 1.38879439e-11, 2.31952283e-16, 5.24288566e-22,\n",
       "        1.60381089e-28, 6.63967720e-36],\n",
       "       [3.67879441e-01, 1.00000000e+00, 3.67879441e-01, 1.83156389e-02,\n",
       "        1.23409804e-04, 1.12535175e-07, 1.38879439e-11, 2.31952283e-16,\n",
       "        5.24288566e-22, 1.60381089e-28],\n",
       "       [1.83156389e-02, 3.67879441e-01, 1.00000000e+00, 3.67879441e-01,\n",
       "        1.83156389e-02, 1.23409804e-04, 1.12535175e-07, 1.38879439e-11,\n",
       "        2.31952283e-16, 5.24288566e-22],\n",
       "       [1.23409804e-04, 1.83156389e-02, 3.67879441e-01, 1.00000000e+00,\n",
       "        3.67879441e-01, 1.83156389e-02, 1.23409804e-04, 1.12535175e-07,\n",
       "        1.38879439e-11, 2.31952283e-16],\n",
       "       [1.12535175e-07, 1.23409804e-04, 1.83156389e-02, 3.67879441e-01,\n",
       "        1.00000000e+00, 3.67879441e-01, 1.83156389e-02, 1.23409804e-04,\n",
       "        1.12535175e-07, 1.38879439e-11],\n",
       "       [1.38879439e-11, 1.12535175e-07, 1.23409804e-04, 1.83156389e-02,\n",
       "        3.67879441e-01, 1.00000000e+00, 3.67879441e-01, 1.83156389e-02,\n",
       "        1.23409804e-04, 1.12535175e-07],\n",
       "       [2.31952283e-16, 1.38879439e-11, 1.12535175e-07, 1.23409804e-04,\n",
       "        1.83156389e-02, 3.67879441e-01, 1.00000000e+00, 3.67879441e-01,\n",
       "        1.83156389e-02, 1.23409804e-04],\n",
       "       [5.24288566e-22, 2.31952283e-16, 1.38879439e-11, 1.12535175e-07,\n",
       "        1.23409804e-04, 1.83156389e-02, 3.67879441e-01, 1.00000000e+00,\n",
       "        3.67879441e-01, 1.83156389e-02],\n",
       "       [1.60381089e-28, 5.24288566e-22, 2.31952283e-16, 1.38879439e-11,\n",
       "        1.12535175e-07, 1.23409804e-04, 1.83156389e-02, 3.67879441e-01,\n",
       "        1.00000000e+00, 3.67879441e-01],\n",
       "       [6.63967720e-36, 1.60381089e-28, 5.24288566e-22, 2.31952283e-16,\n",
       "        1.38879439e-11, 1.12535175e-07, 1.23409804e-04, 1.83156389e-02,\n",
       "        3.67879441e-01, 1.00000000e+00]])"
      ]
     },
     "execution_count": 504,
     "metadata": {},
     "output_type": "execute_result"
    }
   ],
   "source": [
    "Sigma"
   ]
  },
  {
   "cell_type": "code",
   "execution_count": 522,
   "metadata": {},
   "outputs": [],
   "source": [
    "x_com = np.concatenate([x_old, x_new], axis=0)"
   ]
  },
  {
   "cell_type": "code",
   "execution_count": 523,
   "metadata": {},
   "outputs": [
    {
     "data": {
      "text/plain": [
       "array([0. , 1. , 2. , 3. , 4. , 5. , 6. , 7. , 8. , 9. , 0.5, 1.5, 2.5,\n",
       "       3.5, 4.5, 5.5, 6.5, 7.5, 8.5, 9.5])"
      ]
     },
     "execution_count": 523,
     "metadata": {},
     "output_type": "execute_result"
    }
   ],
   "source": [
    "x_com"
   ]
  },
  {
   "cell_type": "code",
   "execution_count": 524,
   "metadata": {},
   "outputs": [],
   "source": [
    "y_old = y"
   ]
  },
  {
   "cell_type": "code",
   "execution_count": 525,
   "metadata": {},
   "outputs": [
    {
     "data": {
      "text/plain": [
       "array([ 0.        ,  0.84147098,  0.90929743,  0.14112001, -0.7568025 ,\n",
       "       -0.95892427, -0.2794155 ,  0.6569866 ,  0.98935825,  0.41211849])"
      ]
     },
     "execution_count": 525,
     "metadata": {},
     "output_type": "execute_result"
    }
   ],
   "source": [
    "y"
   ]
  },
  {
   "cell_type": "code",
   "execution_count": 526,
   "metadata": {},
   "outputs": [],
   "source": [
    "K_com = cov_mat(x_com, x_com)"
   ]
  },
  {
   "cell_type": "code",
   "execution_count": 527,
   "metadata": {},
   "outputs": [
    {
     "data": {
      "text/plain": [
       "array([[1.00000000e+00, 3.67879441e-01, 1.83156389e-02, 1.23409804e-04,\n",
       "        1.12535175e-07, 1.38879439e-11, 2.31952283e-16, 5.24288566e-22,\n",
       "        1.60381089e-28, 6.63967720e-36, 7.78800783e-01, 1.05399225e-01,\n",
       "        1.93045414e-03, 4.78511739e-06, 1.60522806e-09, 7.28772410e-14,\n",
       "        4.47773244e-19, 3.72336312e-25, 4.19009319e-32, 6.38150345e-40],\n",
       "       [3.67879441e-01, 1.00000000e+00, 3.67879441e-01, 1.83156389e-02,\n",
       "        1.23409804e-04, 1.12535175e-07, 1.38879439e-11, 2.31952283e-16,\n",
       "        5.24288566e-22, 1.60381089e-28, 7.78800783e-01, 7.78800783e-01,\n",
       "        1.05399225e-01, 1.93045414e-03, 4.78511739e-06, 1.60522806e-09,\n",
       "        7.28772410e-14, 4.47773244e-19, 3.72336312e-25, 4.19009319e-32],\n",
       "       [1.83156389e-02, 3.67879441e-01, 1.00000000e+00, 3.67879441e-01,\n",
       "        1.83156389e-02, 1.23409804e-04, 1.12535175e-07, 1.38879439e-11,\n",
       "        2.31952283e-16, 5.24288566e-22, 1.05399225e-01, 7.78800783e-01,\n",
       "        7.78800783e-01, 1.05399225e-01, 1.93045414e-03, 4.78511739e-06,\n",
       "        1.60522806e-09, 7.28772410e-14, 4.47773244e-19, 3.72336312e-25],\n",
       "       [1.23409804e-04, 1.83156389e-02, 3.67879441e-01, 1.00000000e+00,\n",
       "        3.67879441e-01, 1.83156389e-02, 1.23409804e-04, 1.12535175e-07,\n",
       "        1.38879439e-11, 2.31952283e-16, 1.93045414e-03, 1.05399225e-01,\n",
       "        7.78800783e-01, 7.78800783e-01, 1.05399225e-01, 1.93045414e-03,\n",
       "        4.78511739e-06, 1.60522806e-09, 7.28772410e-14, 4.47773244e-19],\n",
       "       [1.12535175e-07, 1.23409804e-04, 1.83156389e-02, 3.67879441e-01,\n",
       "        1.00000000e+00, 3.67879441e-01, 1.83156389e-02, 1.23409804e-04,\n",
       "        1.12535175e-07, 1.38879439e-11, 4.78511739e-06, 1.93045414e-03,\n",
       "        1.05399225e-01, 7.78800783e-01, 7.78800783e-01, 1.05399225e-01,\n",
       "        1.93045414e-03, 4.78511739e-06, 1.60522806e-09, 7.28772410e-14],\n",
       "       [1.38879439e-11, 1.12535175e-07, 1.23409804e-04, 1.83156389e-02,\n",
       "        3.67879441e-01, 1.00000000e+00, 3.67879441e-01, 1.83156389e-02,\n",
       "        1.23409804e-04, 1.12535175e-07, 1.60522806e-09, 4.78511739e-06,\n",
       "        1.93045414e-03, 1.05399225e-01, 7.78800783e-01, 7.78800783e-01,\n",
       "        1.05399225e-01, 1.93045414e-03, 4.78511739e-06, 1.60522806e-09],\n",
       "       [2.31952283e-16, 1.38879439e-11, 1.12535175e-07, 1.23409804e-04,\n",
       "        1.83156389e-02, 3.67879441e-01, 1.00000000e+00, 3.67879441e-01,\n",
       "        1.83156389e-02, 1.23409804e-04, 7.28772410e-14, 1.60522806e-09,\n",
       "        4.78511739e-06, 1.93045414e-03, 1.05399225e-01, 7.78800783e-01,\n",
       "        7.78800783e-01, 1.05399225e-01, 1.93045414e-03, 4.78511739e-06],\n",
       "       [5.24288566e-22, 2.31952283e-16, 1.38879439e-11, 1.12535175e-07,\n",
       "        1.23409804e-04, 1.83156389e-02, 3.67879441e-01, 1.00000000e+00,\n",
       "        3.67879441e-01, 1.83156389e-02, 4.47773244e-19, 7.28772410e-14,\n",
       "        1.60522806e-09, 4.78511739e-06, 1.93045414e-03, 1.05399225e-01,\n",
       "        7.78800783e-01, 7.78800783e-01, 1.05399225e-01, 1.93045414e-03],\n",
       "       [1.60381089e-28, 5.24288566e-22, 2.31952283e-16, 1.38879439e-11,\n",
       "        1.12535175e-07, 1.23409804e-04, 1.83156389e-02, 3.67879441e-01,\n",
       "        1.00000000e+00, 3.67879441e-01, 3.72336312e-25, 4.47773244e-19,\n",
       "        7.28772410e-14, 1.60522806e-09, 4.78511739e-06, 1.93045414e-03,\n",
       "        1.05399225e-01, 7.78800783e-01, 7.78800783e-01, 1.05399225e-01],\n",
       "       [6.63967720e-36, 1.60381089e-28, 5.24288566e-22, 2.31952283e-16,\n",
       "        1.38879439e-11, 1.12535175e-07, 1.23409804e-04, 1.83156389e-02,\n",
       "        3.67879441e-01, 1.00000000e+00, 4.19009319e-32, 3.72336312e-25,\n",
       "        4.47773244e-19, 7.28772410e-14, 1.60522806e-09, 4.78511739e-06,\n",
       "        1.93045414e-03, 1.05399225e-01, 7.78800783e-01, 7.78800783e-01],\n",
       "       [7.78800783e-01, 7.78800783e-01, 1.05399225e-01, 1.93045414e-03,\n",
       "        4.78511739e-06, 1.60522806e-09, 7.28772410e-14, 4.47773244e-19,\n",
       "        3.72336312e-25, 4.19009319e-32, 1.00000000e+00, 3.67879441e-01,\n",
       "        1.83156389e-02, 1.23409804e-04, 1.12535175e-07, 1.38879439e-11,\n",
       "        2.31952283e-16, 5.24288566e-22, 1.60381089e-28, 6.63967720e-36],\n",
       "       [1.05399225e-01, 7.78800783e-01, 7.78800783e-01, 1.05399225e-01,\n",
       "        1.93045414e-03, 4.78511739e-06, 1.60522806e-09, 7.28772410e-14,\n",
       "        4.47773244e-19, 3.72336312e-25, 3.67879441e-01, 1.00000000e+00,\n",
       "        3.67879441e-01, 1.83156389e-02, 1.23409804e-04, 1.12535175e-07,\n",
       "        1.38879439e-11, 2.31952283e-16, 5.24288566e-22, 1.60381089e-28],\n",
       "       [1.93045414e-03, 1.05399225e-01, 7.78800783e-01, 7.78800783e-01,\n",
       "        1.05399225e-01, 1.93045414e-03, 4.78511739e-06, 1.60522806e-09,\n",
       "        7.28772410e-14, 4.47773244e-19, 1.83156389e-02, 3.67879441e-01,\n",
       "        1.00000000e+00, 3.67879441e-01, 1.83156389e-02, 1.23409804e-04,\n",
       "        1.12535175e-07, 1.38879439e-11, 2.31952283e-16, 5.24288566e-22],\n",
       "       [4.78511739e-06, 1.93045414e-03, 1.05399225e-01, 7.78800783e-01,\n",
       "        7.78800783e-01, 1.05399225e-01, 1.93045414e-03, 4.78511739e-06,\n",
       "        1.60522806e-09, 7.28772410e-14, 1.23409804e-04, 1.83156389e-02,\n",
       "        3.67879441e-01, 1.00000000e+00, 3.67879441e-01, 1.83156389e-02,\n",
       "        1.23409804e-04, 1.12535175e-07, 1.38879439e-11, 2.31952283e-16],\n",
       "       [1.60522806e-09, 4.78511739e-06, 1.93045414e-03, 1.05399225e-01,\n",
       "        7.78800783e-01, 7.78800783e-01, 1.05399225e-01, 1.93045414e-03,\n",
       "        4.78511739e-06, 1.60522806e-09, 1.12535175e-07, 1.23409804e-04,\n",
       "        1.83156389e-02, 3.67879441e-01, 1.00000000e+00, 3.67879441e-01,\n",
       "        1.83156389e-02, 1.23409804e-04, 1.12535175e-07, 1.38879439e-11],\n",
       "       [7.28772410e-14, 1.60522806e-09, 4.78511739e-06, 1.93045414e-03,\n",
       "        1.05399225e-01, 7.78800783e-01, 7.78800783e-01, 1.05399225e-01,\n",
       "        1.93045414e-03, 4.78511739e-06, 1.38879439e-11, 1.12535175e-07,\n",
       "        1.23409804e-04, 1.83156389e-02, 3.67879441e-01, 1.00000000e+00,\n",
       "        3.67879441e-01, 1.83156389e-02, 1.23409804e-04, 1.12535175e-07],\n",
       "       [4.47773244e-19, 7.28772410e-14, 1.60522806e-09, 4.78511739e-06,\n",
       "        1.93045414e-03, 1.05399225e-01, 7.78800783e-01, 7.78800783e-01,\n",
       "        1.05399225e-01, 1.93045414e-03, 2.31952283e-16, 1.38879439e-11,\n",
       "        1.12535175e-07, 1.23409804e-04, 1.83156389e-02, 3.67879441e-01,\n",
       "        1.00000000e+00, 3.67879441e-01, 1.83156389e-02, 1.23409804e-04],\n",
       "       [3.72336312e-25, 4.47773244e-19, 7.28772410e-14, 1.60522806e-09,\n",
       "        4.78511739e-06, 1.93045414e-03, 1.05399225e-01, 7.78800783e-01,\n",
       "        7.78800783e-01, 1.05399225e-01, 5.24288566e-22, 2.31952283e-16,\n",
       "        1.38879439e-11, 1.12535175e-07, 1.23409804e-04, 1.83156389e-02,\n",
       "        3.67879441e-01, 1.00000000e+00, 3.67879441e-01, 1.83156389e-02],\n",
       "       [4.19009319e-32, 3.72336312e-25, 4.47773244e-19, 7.28772410e-14,\n",
       "        1.60522806e-09, 4.78511739e-06, 1.93045414e-03, 1.05399225e-01,\n",
       "        7.78800783e-01, 7.78800783e-01, 1.60381089e-28, 5.24288566e-22,\n",
       "        2.31952283e-16, 1.38879439e-11, 1.12535175e-07, 1.23409804e-04,\n",
       "        1.83156389e-02, 3.67879441e-01, 1.00000000e+00, 3.67879441e-01],\n",
       "       [6.38150345e-40, 4.19009319e-32, 3.72336312e-25, 4.47773244e-19,\n",
       "        7.28772410e-14, 1.60522806e-09, 4.78511739e-06, 1.93045414e-03,\n",
       "        1.05399225e-01, 7.78800783e-01, 6.63967720e-36, 1.60381089e-28,\n",
       "        5.24288566e-22, 2.31952283e-16, 1.38879439e-11, 1.12535175e-07,\n",
       "        1.23409804e-04, 1.83156389e-02, 3.67879441e-01, 1.00000000e+00]])"
      ]
     },
     "execution_count": 527,
     "metadata": {},
     "output_type": "execute_result"
    }
   ],
   "source": [
    "K_com"
   ]
  },
  {
   "cell_type": "code",
   "execution_count": 507,
   "metadata": {},
   "outputs": [
    {
     "data": {
      "text/plain": [
       "()"
      ]
     },
     "execution_count": 507,
     "metadata": {},
     "output_type": "execute_result"
    }
   ],
   "source": [
    "x_new.shape"
   ]
  },
  {
   "cell_type": "code",
   "execution_count": 559,
   "metadata": {},
   "outputs": [
    {
     "data": {
      "text/plain": [
       "0.5"
      ]
     },
     "execution_count": 559,
     "metadata": {},
     "output_type": "execute_result"
    }
   ],
   "source": [
    "x_new[0]"
   ]
  },
  {
   "cell_type": "code",
   "execution_count": 560,
   "metadata": {},
   "outputs": [],
   "source": [
    "K_old = cov_mat(x_old, x_old)"
   ]
  },
  {
   "cell_type": "code",
   "execution_count": 586,
   "metadata": {},
   "outputs": [],
   "source": [
    "K_star = cov_mat(x_old, [0.5, 0.3])"
   ]
  },
  {
   "cell_type": "code",
   "execution_count": 587,
   "metadata": {},
   "outputs": [
    {
     "data": {
      "text/plain": [
       "array([[7.78800783e-01, 9.13931185e-01],\n",
       "       [7.78800783e-01, 6.12626394e-01],\n",
       "       [1.05399225e-01, 5.55762126e-02],\n",
       "       [1.93045414e-03, 6.82328053e-04],\n",
       "       [4.78511739e-06, 1.13372714e-06],\n",
       "       [1.60522806e-09, 2.54938188e-10],\n",
       "       [7.28772410e-14, 7.75840208e-15],\n",
       "       [4.47773244e-19, 3.19536672e-20],\n",
       "       [3.72336312e-25, 1.78106663e-26],\n",
       "       [4.19009319e-32, 1.34354020e-33]])"
      ]
     },
     "execution_count": 587,
     "metadata": {},
     "output_type": "execute_result"
    }
   ],
   "source": [
    "K_star"
   ]
  },
  {
   "cell_type": "code",
   "execution_count": 598,
   "metadata": {},
   "outputs": [
    {
     "data": {
      "text/plain": [
       "array([[7.78800783e-01],\n",
       "       [7.78800783e-01],\n",
       "       [1.05399225e-01],\n",
       "       [1.93045414e-03],\n",
       "       [4.78511739e-06],\n",
       "       [1.60522806e-09],\n",
       "       [7.28772410e-14],\n",
       "       [4.47773244e-19],\n",
       "       [3.72336312e-25],\n",
       "       [4.19009319e-32]])"
      ]
     },
     "execution_count": 598,
     "metadata": {},
     "output_type": "execute_result"
    }
   ],
   "source": [
    "cov_mat(x_old, [0.5])"
   ]
  },
  {
   "cell_type": "code",
   "execution_count": 603,
   "metadata": {},
   "outputs": [
    {
     "data": {
      "text/plain": [
       "array([[7.78800783e-01],\n",
       "       [7.78800783e-01],\n",
       "       [1.05399225e-01],\n",
       "       [1.93045414e-03],\n",
       "       [4.78511739e-06],\n",
       "       [1.60522806e-09],\n",
       "       [7.28772410e-14],\n",
       "       [4.47773244e-19],\n",
       "       [3.72336312e-25],\n",
       "       [4.19009319e-32]])"
      ]
     },
     "execution_count": 603,
     "metadata": {},
     "output_type": "execute_result"
    }
   ],
   "source": [
    "K_star[:,0].reshape(-1,1)"
   ]
  },
  {
   "cell_type": "code",
   "execution_count": 588,
   "metadata": {},
   "outputs": [],
   "source": [
    "y_exp = K_star.T @ np.linalg.inv(K_old) @ y_old"
   ]
  },
  {
   "cell_type": "code",
   "execution_count": 589,
   "metadata": {},
   "outputs": [],
   "source": [
    "y_new = np.sin([0.5, 0.3])"
   ]
  },
  {
   "cell_type": "code",
   "execution_count": 607,
   "metadata": {},
   "outputs": [],
   "source": [
    "sigma_star =  - K_star[:,0].reshape(-1,1).T @ np.linalg.inv(K_old) @ K_star[:,0].reshape(-1,1) + 1"
   ]
  },
  {
   "cell_type": "code",
   "execution_count": 608,
   "metadata": {},
   "outputs": [
    {
     "data": {
      "text/plain": [
       "(1, 1)"
      ]
     },
     "execution_count": 608,
     "metadata": {},
     "output_type": "execute_result"
    }
   ],
   "source": [
    "sigma_star.shape"
   ]
  },
  {
   "cell_type": "code",
   "execution_count": 609,
   "metadata": {},
   "outputs": [
    {
     "data": {
      "text/plain": [
       "array([0.47942554, 0.29552021])"
      ]
     },
     "execution_count": 609,
     "metadata": {},
     "output_type": "execute_result"
    }
   ],
   "source": [
    "y_new"
   ]
  },
  {
   "cell_type": "code",
   "execution_count": 610,
   "metadata": {},
   "outputs": [
    {
     "data": {
      "text/plain": [
       "array([0.40714865, 0.22090251])"
      ]
     },
     "execution_count": 610,
     "metadata": {},
     "output_type": "execute_result"
    }
   ],
   "source": [
    "y_exp"
   ]
  },
  {
   "cell_type": "code",
   "execution_count": 611,
   "metadata": {},
   "outputs": [
    {
     "data": {
      "text/plain": [
       "array([[0.0955578]])"
      ]
     },
     "execution_count": 611,
     "metadata": {},
     "output_type": "execute_result"
    }
   ],
   "source": [
    "sigma_star"
   ]
  },
  {
   "cell_type": "code",
   "execution_count": 614,
   "metadata": {},
   "outputs": [],
   "source": [
    "L = np.linalg.cholesky(K_old)"
   ]
  },
  {
   "cell_type": "code",
   "execution_count": 617,
   "metadata": {},
   "outputs": [],
   "source": [
    "f_prior = np.dot(L, np.random.normal(size=(10,10)))"
   ]
  },
  {
   "cell_type": "code",
   "execution_count": 618,
   "metadata": {},
   "outputs": [
    {
     "data": {
      "text/plain": [
       "array([[-2.20359913, -1.91298991,  0.01678409,  1.76167776, -0.53533004,\n",
       "        -1.80410295, -1.20766038,  1.74097355, -0.94243167,  0.5410315 ],\n",
       "       [-1.01719727, -0.38742492,  0.67137273,  0.6701424 ,  0.24530331,\n",
       "        -0.38142274, -0.09452976,  0.41631655, -1.09092985,  0.98826656],\n",
       "       [ 0.673779  ,  0.68102031, -0.51126754,  0.15248549, -0.6040919 ,\n",
       "         0.57588547,  0.63298972,  0.97624765, -0.85137515,  1.28950942],\n",
       "       [ 0.48961416,  0.43089857,  0.57247152,  0.71613414, -1.16382132,\n",
       "         1.02718987, -0.09636795,  1.28040981, -0.13393935,  2.32379245],\n",
       "       [ 1.03191258,  1.62330293,  0.017685  ,  0.0874442 ,  1.01370706,\n",
       "         1.19675995,  0.32929887, -0.73066773, -0.72923171,  3.21169902],\n",
       "       [ 0.4164431 ,  0.61107798, -0.28507687, -0.70635902,  0.71605218,\n",
       "         1.32016984, -0.68204242, -0.17985731, -1.35274122,  1.85806821],\n",
       "       [-0.14086696, -0.38570281, -0.00640713,  0.39134225, -0.51470269,\n",
       "        -0.59906043,  0.49438787,  1.39501815, -0.11912289,  0.66492068],\n",
       "       [-0.71510246, -0.71073254,  0.73121271, -0.03890827,  0.78534485,\n",
       "         0.60032515,  0.16337093,  1.67184189, -0.54298473,  0.20243173],\n",
       "       [-0.32296588,  0.77046834, -0.7220417 ,  0.63969451, -0.63746706,\n",
       "        -0.35666324, -0.53249631, -0.60392399,  0.22887352,  1.25208695],\n",
       "       [ 0.17431971,  1.42133318, -0.8736809 ,  1.33373421, -0.48312548,\n",
       "        -1.01609844, -1.74216476, -1.95013606,  1.11479903,  0.25529651]])"
      ]
     },
     "execution_count": 618,
     "metadata": {},
     "output_type": "execute_result"
    }
   ],
   "source": [
    "f_prior"
   ]
  },
  {
   "cell_type": "code",
   "execution_count": 620,
   "metadata": {},
   "outputs": [
    {
     "data": {
      "text/plain": [
       "[<matplotlib.lines.Line2D at 0x7f38a93d9ef0>,\n",
       " <matplotlib.lines.Line2D at 0x7f38a93de080>,\n",
       " <matplotlib.lines.Line2D at 0x7f38a93de1d0>,\n",
       " <matplotlib.lines.Line2D at 0x7f38a93de320>,\n",
       " <matplotlib.lines.Line2D at 0x7f38a93de470>,\n",
       " <matplotlib.lines.Line2D at 0x7f38a93de5c0>,\n",
       " <matplotlib.lines.Line2D at 0x7f38a93de710>,\n",
       " <matplotlib.lines.Line2D at 0x7f38a93de860>,\n",
       " <matplotlib.lines.Line2D at 0x7f38a93de9b0>,\n",
       " <matplotlib.lines.Line2D at 0x7f38a93deb00>]"
      ]
     },
     "execution_count": 620,
     "metadata": {},
     "output_type": "execute_result"
    },
    {
     "data": {
      "image/png": "[encoded data removed]",
      "text/plain": [
       "<Figure size 432x288 with 1 Axes>"
      ]
     },
     "metadata": {
      "needs_background": "light"
     },
     "output_type": "display_data"
    }
   ],
   "source": [
    "plt.plot(x_old, f_prior)"
   ]
  },
  {
   "cell_type": "markdown",
   "metadata": {},
   "source": [
    "- combine prior with data\n",
    "- prior knowledge assumes that function is smooth\n",
    "$D=(x1,y1),.. etc$\n",
    "$p(f\\vert D) = 1/p(D) p(D \\vert f) p(f)$"
   ]
  },
  {
   "cell_type": "code",
   "execution_count": null,
   "metadata": {},
   "outputs": [],
   "source": []
  }
 ],
 "metadata": {
  "kernelspec": {
   "display_name": "Python 3 (ml-default)",
   "language": "python",
   "name": "ml-default"
  },
  "language_info": {
   "codemirror_mode": {
    "name": "ipython",
    "version": 3
   },
   "file_extension": ".py",
   "mimetype": "text/x-python",
   "name": "python",
   "nbconvert_exporter": "python",
   "pygments_lexer": "ipython3",
   "version": "3.7.1"
  }
 },
 "nbformat": 4,
 "nbformat_minor": 2
}
